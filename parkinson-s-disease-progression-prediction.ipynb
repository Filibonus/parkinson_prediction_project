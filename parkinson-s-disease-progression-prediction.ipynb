{
 "cells": [
  {
   "cell_type": "markdown",
   "id": "d5a12912",
   "metadata": {
    "papermill": {
     "duration": 0.013521,
     "end_time": "2023-06-08T14:37:33.980772",
     "exception": false,
     "start_time": "2023-06-08T14:37:33.967251",
     "status": "completed"
    },
    "tags": []
   },
   "source": [
    "# Parkinson's Disease Progression Prediction"
   ]
  },
  {
   "cell_type": "markdown",
   "id": "2dae7d5b",
   "metadata": {
    "papermill": {
     "duration": 0.013266,
     "end_time": "2023-06-08T14:37:34.008580",
     "exception": false,
     "start_time": "2023-06-08T14:37:33.995314",
     "status": "completed"
    },
    "tags": []
   },
   "source": [
    "В этом нотбуке проведено исследование и обучение модели на данных AMP®-Parkinson's Disease Progression Prediction. \n",
    "Модель должна предсказывать баллы MDS-UPDR, которые измеряют прогрессирование у пациентов болезни Паркинсона."
   ]
  },
  {
   "cell_type": "markdown",
   "id": "260d1519",
   "metadata": {
    "papermill": {
     "duration": 0.012881,
     "end_time": "2023-06-08T14:37:34.034631",
     "exception": false,
     "start_time": "2023-06-08T14:37:34.021750",
     "status": "completed"
    },
    "tags": []
   },
   "source": [
    "#### Подключим библиотеки"
   ]
  },
  {
   "cell_type": "code",
   "execution_count": 1,
   "id": "43106c1c",
   "metadata": {
    "execution": {
     "iopub.execute_input": "2023-06-08T14:37:34.063091Z",
     "iopub.status.busy": "2023-06-08T14:37:34.062671Z",
     "iopub.status.idle": "2023-06-08T14:37:36.745198Z",
     "shell.execute_reply": "2023-06-08T14:37:36.743833Z"
    },
    "papermill": {
     "duration": 2.700307,
     "end_time": "2023-06-08T14:37:36.748061",
     "exception": false,
     "start_time": "2023-06-08T14:37:34.047754",
     "status": "completed"
    },
    "tags": []
   },
   "outputs": [],
   "source": [
    "import numpy as np\n",
    "import pandas as pd\n",
    "\n",
    "import matplotlib.pyplot as plt\n",
    "import seaborn as sns\n",
    "\n",
    "from sklearn.decomposition import PCA\n",
    "from sklearn.model_selection import train_test_split\n",
    "from sklearn.linear_model import LinearRegression\n",
    "from sklearn.metrics import mean_squared_error\n",
    "from sklearn.preprocessing import MinMaxScaler\n",
    "\n",
    "import catboost as cb\n",
    "from catboost import Pool, cv\n",
    "\n",
    "# Настроим библиотеки отрисовки\n",
    "%matplotlib inline"
   ]
  },
  {
   "cell_type": "markdown",
   "id": "838acafa",
   "metadata": {
    "papermill": {
     "duration": 0.014039,
     "end_time": "2023-06-08T14:37:36.775742",
     "exception": false,
     "start_time": "2023-06-08T14:37:36.761703",
     "status": "completed"
    },
    "tags": []
   },
   "source": [
    "### Загрузим наши данные"
   ]
  },
  {
   "cell_type": "markdown",
   "id": "82135be3",
   "metadata": {
    "papermill": {
     "duration": 0.01298,
     "end_time": "2023-06-08T14:37:36.802098",
     "exception": false,
     "start_time": "2023-06-08T14:37:36.789118",
     "status": "completed"
    },
    "tags": []
   },
   "source": [
    "## Basic view"
   ]
  },
  {
   "cell_type": "code",
   "execution_count": 2,
   "id": "4c68dd33",
   "metadata": {
    "execution": {
     "iopub.execute_input": "2023-06-08T14:37:36.831904Z",
     "iopub.status.busy": "2023-06-08T14:37:36.831431Z",
     "iopub.status.idle": "2023-06-08T14:37:38.493608Z",
     "shell.execute_reply": "2023-06-08T14:37:38.492468Z"
    },
    "papermill": {
     "duration": 1.680088,
     "end_time": "2023-06-08T14:37:38.496320",
     "exception": false,
     "start_time": "2023-06-08T14:37:36.816232",
     "status": "completed"
    },
    "tags": []
   },
   "outputs": [],
   "source": [
    "# Load a dataset into a Pandas DataFrame\n",
    "train_proteins = pd.read_csv(\"/kaggle/input/amp-parkinsons-disease-progression-prediction/train_proteins.csv\")\n",
    "train_peptides = pd.read_csv(\"/kaggle/input/amp-parkinsons-disease-progression-prediction/train_peptides.csv\")\n",
    "train_clinical = pd.read_csv(\"/kaggle/input/amp-parkinsons-disease-progression-prediction/train_clinical_data.csv\")\n",
    "\n",
    "# sample_submission = pd.read_csv('/kaggle/input/amp-parkinsons-disease-progression-prediction/example_test_files/sample_submission.csv')\n",
    "# test = pd.read_csv('/kaggle/input/amp-parkinsons-disease-progression-prediction/example_test_files/test.csv')\n",
    "# test_peptides = pd.read_csv('/kaggle/input/amp-parkinsons-disease-progression-prediction/example_test_files/test_peptides.csv')\n",
    "# test_proteins = pd.read_csv('/kaggle/input/amp-parkinsons-disease-progression-prediction/example_test_files/test_proteins.csv')\n"
   ]
  },
  {
   "cell_type": "markdown",
   "id": "6a3ea2f0",
   "metadata": {
    "papermill": {
     "duration": 0.014659,
     "end_time": "2023-06-08T14:37:38.524979",
     "exception": false,
     "start_time": "2023-06-08T14:37:38.510320",
     "status": "completed"
    },
    "tags": []
   },
   "source": [
    "Теперь мы подробно рассмотрим каждый из этих DataFrame (таблиц). \n",
    "\n",
    "UPDRS является инструментом оценки, используемым для измерения тяжести и прогрессирования болезни Паркинсона у пациентов. Когда пациент посещает клинику, клиника записывает, как пациент прошел тест UPDRS по 4 частям. Эти данные можно найти в train_clinical. Рейтинги для первых 4 сегментов UPDRS доступны в train_clinical как updrs_1, updrs_2, updrs_3 и updrs_4. Наша цель - обучить модель, чтобы она могла предсказывать эти рейтинги UPDRS.\n",
    "\n",
    "Давайте рассмотрим датасет train_clinical."
   ]
  },
  {
   "cell_type": "code",
   "execution_count": 3,
   "id": "513afc82",
   "metadata": {
    "execution": {
     "iopub.execute_input": "2023-06-08T14:37:38.553382Z",
     "iopub.status.busy": "2023-06-08T14:37:38.552882Z",
     "iopub.status.idle": "2023-06-08T14:37:38.559496Z",
     "shell.execute_reply": "2023-06-08T14:37:38.558136Z"
    },
    "papermill": {
     "duration": 0.023951,
     "end_time": "2023-06-08T14:37:38.562130",
     "exception": false,
     "start_time": "2023-06-08T14:37:38.538179",
     "status": "completed"
    },
    "tags": []
   },
   "outputs": [
    {
     "name": "stdout",
     "output_type": "stream",
     "text": [
      "clinical dataset shape:   (2615, 8)\n"
     ]
    }
   ],
   "source": [
    "print('clinical dataset shape:  ', train_clinical.shape)"
   ]
  },
  {
   "cell_type": "code",
   "execution_count": 4,
   "id": "8ff2c582",
   "metadata": {
    "execution": {
     "iopub.execute_input": "2023-06-08T14:37:38.593263Z",
     "iopub.status.busy": "2023-06-08T14:37:38.592451Z",
     "iopub.status.idle": "2023-06-08T14:37:38.630315Z",
     "shell.execute_reply": "2023-06-08T14:37:38.629413Z"
    },
    "papermill": {
     "duration": 0.056595,
     "end_time": "2023-06-08T14:37:38.632655",
     "exception": false,
     "start_time": "2023-06-08T14:37:38.576060",
     "status": "completed"
    },
    "tags": []
   },
   "outputs": [
    {
     "data": {
      "text/html": [
       "<div>\n",
       "<style scoped>\n",
       "    .dataframe tbody tr th:only-of-type {\n",
       "        vertical-align: middle;\n",
       "    }\n",
       "\n",
       "    .dataframe tbody tr th {\n",
       "        vertical-align: top;\n",
       "    }\n",
       "\n",
       "    .dataframe thead th {\n",
       "        text-align: right;\n",
       "    }\n",
       "</style>\n",
       "<table border=\"1\" class=\"dataframe\">\n",
       "  <thead>\n",
       "    <tr style=\"text-align: right;\">\n",
       "      <th></th>\n",
       "      <th>visit_id</th>\n",
       "      <th>visit_month</th>\n",
       "      <th>patient_id</th>\n",
       "      <th>UniProt</th>\n",
       "      <th>Peptide</th>\n",
       "      <th>PeptideAbundance</th>\n",
       "    </tr>\n",
       "  </thead>\n",
       "  <tbody>\n",
       "    <tr>\n",
       "      <th>0</th>\n",
       "      <td>55_0</td>\n",
       "      <td>0</td>\n",
       "      <td>55</td>\n",
       "      <td>O00391</td>\n",
       "      <td>NEQEQPLGQWHLS</td>\n",
       "      <td>11254.3</td>\n",
       "    </tr>\n",
       "    <tr>\n",
       "      <th>1</th>\n",
       "      <td>55_0</td>\n",
       "      <td>0</td>\n",
       "      <td>55</td>\n",
       "      <td>O00533</td>\n",
       "      <td>GNPEPTFSWTK</td>\n",
       "      <td>102060.0</td>\n",
       "    </tr>\n",
       "    <tr>\n",
       "      <th>2</th>\n",
       "      <td>55_0</td>\n",
       "      <td>0</td>\n",
       "      <td>55</td>\n",
       "      <td>O00533</td>\n",
       "      <td>IEIPSSVQQVPTIIK</td>\n",
       "      <td>174185.0</td>\n",
       "    </tr>\n",
       "    <tr>\n",
       "      <th>3</th>\n",
       "      <td>55_0</td>\n",
       "      <td>0</td>\n",
       "      <td>55</td>\n",
       "      <td>O00533</td>\n",
       "      <td>KPQSAVYSTGSNGILLC(UniMod_4)EAEGEPQPTIK</td>\n",
       "      <td>27278.9</td>\n",
       "    </tr>\n",
       "    <tr>\n",
       "      <th>4</th>\n",
       "      <td>55_0</td>\n",
       "      <td>0</td>\n",
       "      <td>55</td>\n",
       "      <td>O00533</td>\n",
       "      <td>SMEQNGPGLEYR</td>\n",
       "      <td>30838.7</td>\n",
       "    </tr>\n",
       "  </tbody>\n",
       "</table>\n",
       "</div>"
      ],
      "text/plain": [
       "  visit_id  visit_month  patient_id UniProt  \\\n",
       "0     55_0            0          55  O00391   \n",
       "1     55_0            0          55  O00533   \n",
       "2     55_0            0          55  O00533   \n",
       "3     55_0            0          55  O00533   \n",
       "4     55_0            0          55  O00533   \n",
       "\n",
       "                                  Peptide  PeptideAbundance  \n",
       "0                           NEQEQPLGQWHLS           11254.3  \n",
       "1                             GNPEPTFSWTK          102060.0  \n",
       "2                         IEIPSSVQQVPTIIK          174185.0  \n",
       "3  KPQSAVYSTGSNGILLC(UniMod_4)EAEGEPQPTIK           27278.9  \n",
       "4                            SMEQNGPGLEYR           30838.7  "
      ]
     },
     "execution_count": 4,
     "metadata": {},
     "output_type": "execute_result"
    }
   ],
   "source": [
    "train_peptides.head(5)"
   ]
  },
  {
   "cell_type": "markdown",
   "id": "5d1891ae",
   "metadata": {
    "papermill": {
     "duration": 0.013428,
     "end_time": "2023-06-08T14:37:38.660562",
     "exception": false,
     "start_time": "2023-06-08T14:37:38.647134",
     "status": "completed"
    },
    "tags": []
   },
   "source": [
    "Клиника также будет записывать значение NPX (нормализованная экспрессия белков), связанных с болезнью Паркинсона, для каждого посещения пациента. NPX представляет собой значение, представляющее концентрацию белка в оболочках. Эти данные доступны в DataFrame train_proteins.\n",
    "\n",
    "Давайте рассмотрим датасет train_proteins."
   ]
  },
  {
   "cell_type": "code",
   "execution_count": 5,
   "id": "c0f719b2",
   "metadata": {
    "execution": {
     "iopub.execute_input": "2023-06-08T14:37:38.690506Z",
     "iopub.status.busy": "2023-06-08T14:37:38.689180Z",
     "iopub.status.idle": "2023-06-08T14:37:38.695523Z",
     "shell.execute_reply": "2023-06-08T14:37:38.694477Z"
    },
    "papermill": {
     "duration": 0.023531,
     "end_time": "2023-06-08T14:37:38.697621",
     "exception": false,
     "start_time": "2023-06-08T14:37:38.674090",
     "status": "completed"
    },
    "tags": []
   },
   "outputs": [
    {
     "name": "stdout",
     "output_type": "stream",
     "text": [
      "clinical dataset shape:   (232741, 5)\n"
     ]
    }
   ],
   "source": [
    "print('clinical dataset shape:  ', train_proteins.shape)"
   ]
  },
  {
   "cell_type": "markdown",
   "id": "d8636941",
   "metadata": {
    "papermill": {
     "duration": 0.013561,
     "end_time": "2023-06-08T14:37:38.724978",
     "exception": false,
     "start_time": "2023-06-08T14:37:38.711417",
     "status": "completed"
    },
    "tags": []
   },
   "source": [
    "Белки представляют собой длинные молекулы, состоящие из нескольких пептидов. Клиника будет регистрировать изобилие пептидов в белках, имеющих отношение к болезни Паркинсона, аналогичную NPX для белков. Эти данные можно находятся в датасете train_peptides.\n",
    "\n",
    "Давайте рассмотрим датасет train_peptides."
   ]
  },
  {
   "cell_type": "code",
   "execution_count": 6,
   "id": "b0fdf8b3",
   "metadata": {
    "execution": {
     "iopub.execute_input": "2023-06-08T14:37:38.755736Z",
     "iopub.status.busy": "2023-06-08T14:37:38.754467Z",
     "iopub.status.idle": "2023-06-08T14:37:38.762653Z",
     "shell.execute_reply": "2023-06-08T14:37:38.761342Z"
    },
    "papermill": {
     "duration": 0.026535,
     "end_time": "2023-06-08T14:37:38.765037",
     "exception": false,
     "start_time": "2023-06-08T14:37:38.738502",
     "status": "completed"
    },
    "tags": []
   },
   "outputs": [
    {
     "name": "stdout",
     "output_type": "stream",
     "text": [
      "clinical dataset shape:   (981834, 6)\n"
     ]
    }
   ],
   "source": [
    "print('clinical dataset shape:  ', train_peptides.shape)"
   ]
  },
  {
   "cell_type": "code",
   "execution_count": 7,
   "id": "701369ec",
   "metadata": {
    "execution": {
     "iopub.execute_input": "2023-06-08T14:37:38.795321Z",
     "iopub.status.busy": "2023-06-08T14:37:38.793846Z",
     "iopub.status.idle": "2023-06-08T14:37:38.809179Z",
     "shell.execute_reply": "2023-06-08T14:37:38.807631Z"
    },
    "papermill": {
     "duration": 0.033046,
     "end_time": "2023-06-08T14:37:38.811835",
     "exception": false,
     "start_time": "2023-06-08T14:37:38.778789",
     "status": "completed"
    },
    "tags": []
   },
   "outputs": [
    {
     "data": {
      "text/html": [
       "<div>\n",
       "<style scoped>\n",
       "    .dataframe tbody tr th:only-of-type {\n",
       "        vertical-align: middle;\n",
       "    }\n",
       "\n",
       "    .dataframe tbody tr th {\n",
       "        vertical-align: top;\n",
       "    }\n",
       "\n",
       "    .dataframe thead th {\n",
       "        text-align: right;\n",
       "    }\n",
       "</style>\n",
       "<table border=\"1\" class=\"dataframe\">\n",
       "  <thead>\n",
       "    <tr style=\"text-align: right;\">\n",
       "      <th></th>\n",
       "      <th>visit_id</th>\n",
       "      <th>visit_month</th>\n",
       "      <th>patient_id</th>\n",
       "      <th>UniProt</th>\n",
       "      <th>Peptide</th>\n",
       "      <th>PeptideAbundance</th>\n",
       "    </tr>\n",
       "  </thead>\n",
       "  <tbody>\n",
       "    <tr>\n",
       "      <th>0</th>\n",
       "      <td>55_0</td>\n",
       "      <td>0</td>\n",
       "      <td>55</td>\n",
       "      <td>O00391</td>\n",
       "      <td>NEQEQPLGQWHLS</td>\n",
       "      <td>11254.3</td>\n",
       "    </tr>\n",
       "    <tr>\n",
       "      <th>1</th>\n",
       "      <td>55_0</td>\n",
       "      <td>0</td>\n",
       "      <td>55</td>\n",
       "      <td>O00533</td>\n",
       "      <td>GNPEPTFSWTK</td>\n",
       "      <td>102060.0</td>\n",
       "    </tr>\n",
       "    <tr>\n",
       "      <th>2</th>\n",
       "      <td>55_0</td>\n",
       "      <td>0</td>\n",
       "      <td>55</td>\n",
       "      <td>O00533</td>\n",
       "      <td>IEIPSSVQQVPTIIK</td>\n",
       "      <td>174185.0</td>\n",
       "    </tr>\n",
       "    <tr>\n",
       "      <th>3</th>\n",
       "      <td>55_0</td>\n",
       "      <td>0</td>\n",
       "      <td>55</td>\n",
       "      <td>O00533</td>\n",
       "      <td>KPQSAVYSTGSNGILLC(UniMod_4)EAEGEPQPTIK</td>\n",
       "      <td>27278.9</td>\n",
       "    </tr>\n",
       "    <tr>\n",
       "      <th>4</th>\n",
       "      <td>55_0</td>\n",
       "      <td>0</td>\n",
       "      <td>55</td>\n",
       "      <td>O00533</td>\n",
       "      <td>SMEQNGPGLEYR</td>\n",
       "      <td>30838.7</td>\n",
       "    </tr>\n",
       "  </tbody>\n",
       "</table>\n",
       "</div>"
      ],
      "text/plain": [
       "  visit_id  visit_month  patient_id UniProt  \\\n",
       "0     55_0            0          55  O00391   \n",
       "1     55_0            0          55  O00533   \n",
       "2     55_0            0          55  O00533   \n",
       "3     55_0            0          55  O00533   \n",
       "4     55_0            0          55  O00533   \n",
       "\n",
       "                                  Peptide  PeptideAbundance  \n",
       "0                           NEQEQPLGQWHLS           11254.3  \n",
       "1                             GNPEPTFSWTK          102060.0  \n",
       "2                         IEIPSSVQQVPTIIK          174185.0  \n",
       "3  KPQSAVYSTGSNGILLC(UniMod_4)EAEGEPQPTIK           27278.9  \n",
       "4                            SMEQNGPGLEYR           30838.7  "
      ]
     },
     "execution_count": 7,
     "metadata": {},
     "output_type": "execute_result"
    }
   ],
   "source": [
    "train_peptides.head(5)"
   ]
  },
  {
   "cell_type": "markdown",
   "id": "a0d4a36a",
   "metadata": {
    "papermill": {
     "duration": 0.013819,
     "end_time": "2023-06-08T14:37:38.839876",
     "exception": false,
     "start_time": "2023-06-08T14:37:38.826057",
     "status": "completed"
    },
    "tags": []
   },
   "source": [
    "### Plotting data\n",
    "\n",
    "Мы выберем случайных пациентов и построим график значений целевой метки (updrs_1, updrs_2, updrs_3, updrs_4) данных пациентов на каждый месяц."
   ]
  },
  {
   "cell_type": "code",
   "execution_count": 8,
   "id": "f0cedeff",
   "metadata": {
    "execution": {
     "iopub.execute_input": "2023-06-08T14:37:38.871304Z",
     "iopub.status.busy": "2023-06-08T14:37:38.869944Z",
     "iopub.status.idle": "2023-06-08T14:37:39.603993Z",
     "shell.execute_reply": "2023-06-08T14:37:39.602528Z"
    },
    "papermill": {
     "duration": 0.753036,
     "end_time": "2023-06-08T14:37:39.606948",
     "exception": false,
     "start_time": "2023-06-08T14:37:38.853912",
     "status": "completed"
    },
    "tags": []
   },
   "outputs": [
    {
     "data": {
      "image/png": "[encoded data removed]",
      "text/plain": [
       "<Figure size 1200x400 with 2 Axes>"
      ]
     },
     "metadata": {},
     "output_type": "display_data"
    }
   ],
   "source": [
    "# График для первого пациента\n",
    "plot_df1 = train_clinical[train_clinical[\"patient_id\"]==1517]\n",
    "fig, ax = plt.subplots(1, 2, figsize=(12, 4))\n",
    "\n",
    "ax[0].plot(plot_df1['visit_month'], plot_df1['updrs_1'], marker='o', color=\"blue\", label=\"updrs_1\", linestyle=\"-\")\n",
    "ax[0].plot(plot_df1['visit_month'], plot_df1['updrs_2'], marker='o', color=\"red\", label=\"updrs_2\", linestyle=\"-\")\n",
    "ax[0].plot(plot_df1['visit_month'], plot_df1['updrs_3'], marker='o', color=\"green\", label=\"updrs_3\", linestyle=\"-\")\n",
    "ax[0].plot(plot_df1['visit_month'], plot_df1['updrs_4'], marker='o', color=\"orange\", label=\"updrs_4\", linestyle=\"-\")\n",
    "ax[0].legend()\n",
    "ax[0].set_xlabel('Visit Month')\n",
    "ax[0].set_ylabel('UPDRS Score')\n",
    "ax[0].set_title('Patient 1517')\n",
    "\n",
    "# График для второго пациента\n",
    "plot_df2 = train_clinical[train_clinical[\"patient_id\"]==942]\n",
    "ax[1].plot(plot_df2['visit_month'], plot_df2['updrs_1'], marker='o', color=\"blue\", label=\"updrs_1\", linestyle=\"-\")\n",
    "ax[1].plot(plot_df2['visit_month'], plot_df2['updrs_2'], marker='o', color=\"red\", label=\"updrs_2\", linestyle=\"-\")\n",
    "ax[1].plot(plot_df2['visit_month'], plot_df2['updrs_3'], marker='o', color=\"green\", label=\"updrs_3\", linestyle=\"-\")\n",
    "ax[1].plot(plot_df2['visit_month'], plot_df2['updrs_4'], marker='o', color=\"orange\", label=\"updrs_4\", linestyle=\"-\")\n",
    "ax[1].legend()\n",
    "ax[1].set_xlabel('Visit Month')\n",
    "ax[1].set_ylabel('UPDRS Score')\n",
    "ax[1].set_title('Patient 1234')\n",
    "\n",
    "plt.tight_layout()\n",
    "plt.show()"
   ]
  },
  {
   "cell_type": "markdown",
   "id": "ec1ff886",
   "metadata": {
    "papermill": {
     "duration": 0.015018,
     "end_time": "2023-06-08T14:37:39.637245",
     "exception": false,
     "start_time": "2023-06-08T14:37:39.622227",
     "status": "completed"
    },
    "tags": []
   },
   "source": [
    "Отобразим первые 40 записей белка пациента и их значение NPX в зависимости от месяца посещения пациента."
   ]
  },
  {
   "cell_type": "code",
   "execution_count": 9,
   "id": "d91d85e9",
   "metadata": {
    "execution": {
     "iopub.execute_input": "2023-06-08T14:37:39.670670Z",
     "iopub.status.busy": "2023-06-08T14:37:39.669088Z",
     "iopub.status.idle": "2023-06-08T14:37:42.351788Z",
     "shell.execute_reply": "2023-06-08T14:37:42.350460Z"
    },
    "papermill": {
     "duration": 2.701938,
     "end_time": "2023-06-08T14:37:42.354264",
     "exception": false,
     "start_time": "2023-06-08T14:37:39.652326",
     "status": "completed"
    },
    "tags": []
   },
   "outputs": [
    {
     "data": {
      "image/png": "[encoded data removed]",
      "text/plain": [
       "<Figure size 1500x1200 with 4 Axes>"
      ]
     },
     "metadata": {},
     "output_type": "display_data"
    }
   ],
   "source": [
    "pro_plot_df = train_proteins[train_proteins[\"patient_id\"]==1517]\n",
    "protein_list = pro_plot_df['UniProt'].unique()\n",
    "protein_list = protein_list[:40]\n",
    "pro_plot_df = pro_plot_df[pro_plot_df['UniProt'].isin(protein_list)]\n",
    "unique_month = pro_plot_df['visit_month'].unique()\n",
    "unique_month.sort()\n",
    "p_len = len(unique_month)\n",
    "\n",
    "pro_plot_df['visit_month'].unique()\n",
    "n_rows = int(np.ceil(p_len/2))\n",
    "figure, axis = plt.subplots(n_rows, 2, figsize=(15, n_rows*6))\n",
    "plt.subplots_adjust(hspace=0.5, wspace=0.3)\n",
    "for i, month in enumerate(unique_month):\n",
    "    row = i//2\n",
    "    col = i % 2\n",
    "    plot_df = pro_plot_df[pro_plot_df['visit_month']==month]\n",
    "    bp = sns.barplot(ax=axis[row, col], x=plot_df['UniProt'], y=plot_df['NPX'])\n",
    "    bp.set_xticklabels(bp.get_xticklabels(), rotation=90, size = 7)\n",
    "    axis[row, col].set_title('visit_month ' + str(month))"
   ]
  },
  {
   "cell_type": "markdown",
   "id": "8aea6f02",
   "metadata": {
    "papermill": {
     "duration": 0.016226,
     "end_time": "2023-06-08T14:37:42.387132",
     "exception": false,
     "start_time": "2023-06-08T14:37:42.370906",
     "status": "completed"
    },
    "tags": []
   },
   "source": [
    "## Prepare the dataset"
   ]
  },
  {
   "cell_type": "markdown",
   "id": "8f48d3e9",
   "metadata": {
    "papermill": {
     "duration": 0.016036,
     "end_time": "2023-06-08T14:37:42.419486",
     "exception": false,
     "start_time": "2023-06-08T14:37:42.403450",
     "status": "completed"
    },
    "tags": []
   },
   "source": [
    "Чтобы предсказать целевые метки (updrs_1, updrs_2, updrs_3, updrs_4) для визита, мы будем использовать записанные данные о белках и пептидах пациента во время прошлых везитов.\n",
    "\n",
    "Сначала мы сгруппируем строки данных train_proteins по идентификаторам посещений (visit id) и идентификаторам белков (UniProt). Затем мы заменим значения NPX каждой строки в группе средним значением значений NPX всех строк в этой группе.\n",
    "Точно так же мы сгруппируем строки в данных train_peptides по их идентификаторам посещений (visit_id) и идентификаторам пептидов (Peptide). Затем мы заменим значения PeptideAbundance каждой строки в группе средним значением значений PeptideAbundance всех строк в этой группе."
   ]
  },
  {
   "cell_type": "code",
   "execution_count": 10,
   "id": "fd26ead2",
   "metadata": {
    "execution": {
     "iopub.execute_input": "2023-06-08T14:37:42.455261Z",
     "iopub.status.busy": "2023-06-08T14:37:42.454799Z",
     "iopub.status.idle": "2023-06-08T14:37:43.169632Z",
     "shell.execute_reply": "2023-06-08T14:37:43.168240Z"
    },
    "papermill": {
     "duration": 0.736808,
     "end_time": "2023-06-08T14:37:43.172860",
     "exception": false,
     "start_time": "2023-06-08T14:37:42.436052",
     "status": "completed"
    },
    "tags": []
   },
   "outputs": [],
   "source": [
    "df_protein_grouped = train_proteins.groupby(['visit_id','UniProt'])['NPX'].mean().reset_index()\n",
    "df_peptide_grouped = train_peptides.groupby(['visit_id','Peptide'])['PeptideAbundance'].mean().reset_index()"
   ]
  },
  {
   "cell_type": "markdown",
   "id": "f4d19a92",
   "metadata": {
    "papermill": {
     "duration": 0.016006,
     "end_time": "2023-06-08T14:37:43.205960",
     "exception": false,
     "start_time": "2023-06-08T14:37:43.189954",
     "status": "completed"
    },
    "tags": []
   },
   "source": [
    "Набор данных Protein сводится таким образом, что уникальные значения visit_id становятся индексами, а значения UniProt1 в наборе данных становятся столбцами. Для каждого посещения значения NPX, соответствующие различным значениям UniProt1, записанным для этого посещения, фиксируются в столбцах. Данные о пептидах сводятся аналогично (значения Peptide в наборе данных становятся столбцами, значения PeptideAbundance записанны для своего посящения в столбцах)"
   ]
  },
  {
   "cell_type": "code",
   "execution_count": 11,
   "id": "96a9e1fa",
   "metadata": {
    "execution": {
     "iopub.execute_input": "2023-06-08T14:37:43.241498Z",
     "iopub.status.busy": "2023-06-08T14:37:43.240782Z",
     "iopub.status.idle": "2023-06-08T14:37:43.841091Z",
     "shell.execute_reply": "2023-06-08T14:37:43.839751Z"
    },
    "papermill": {
     "duration": 0.621521,
     "end_time": "2023-06-08T14:37:43.844035",
     "exception": false,
     "start_time": "2023-06-08T14:37:43.222514",
     "status": "completed"
    },
    "tags": []
   },
   "outputs": [],
   "source": [
    "df_protein = df_protein_grouped.pivot(index='visit_id',columns = 'UniProt', values = 'NPX').rename_axis(columns=None).reset_index()\n",
    "df_peptide = df_peptide_grouped.pivot(index='visit_id',columns = 'Peptide', values = 'PeptideAbundance').rename_axis(columns=None).reset_index()"
   ]
  },
  {
   "cell_type": "markdown",
   "id": "5d263e60",
   "metadata": {
    "papermill": {
     "duration": 0.016841,
     "end_time": "2023-06-08T14:37:43.878027",
     "exception": false,
     "start_time": "2023-06-08T14:37:43.861186",
     "status": "completed"
    },
    "tags": []
   },
   "source": [
    "Теперь мы объединим сводной набор данных о пептидах с сводным набором данных о белках на visit_id."
   ]
  },
  {
   "cell_type": "code",
   "execution_count": 12,
   "id": "3e2abd52",
   "metadata": {
    "execution": {
     "iopub.execute_input": "2023-06-08T14:37:43.914476Z",
     "iopub.status.busy": "2023-06-08T14:37:43.913261Z",
     "iopub.status.idle": "2023-06-08T14:37:43.949224Z",
     "shell.execute_reply": "2023-06-08T14:37:43.947929Z"
    },
    "papermill": {
     "duration": 0.057287,
     "end_time": "2023-06-08T14:37:43.952022",
     "exception": false,
     "start_time": "2023-06-08T14:37:43.894735",
     "status": "completed"
    },
    "tags": []
   },
   "outputs": [],
   "source": [
    "pp_df = df_protein.merge(df_peptide, on = ['visit_id'], how = 'left')"
   ]
  },
  {
   "cell_type": "code",
   "execution_count": 13,
   "id": "ac262f7d",
   "metadata": {
    "execution": {
     "iopub.execute_input": "2023-06-08T14:37:43.988003Z",
     "iopub.status.busy": "2023-06-08T14:37:43.987516Z",
     "iopub.status.idle": "2023-06-08T14:37:44.021060Z",
     "shell.execute_reply": "2023-06-08T14:37:44.019532Z"
    },
    "papermill": {
     "duration": 0.054514,
     "end_time": "2023-06-08T14:37:44.023885",
     "exception": false,
     "start_time": "2023-06-08T14:37:43.969371",
     "status": "completed"
    },
    "tags": []
   },
   "outputs": [
    {
     "data": {
      "text/html": [
       "<div>\n",
       "<style scoped>\n",
       "    .dataframe tbody tr th:only-of-type {\n",
       "        vertical-align: middle;\n",
       "    }\n",
       "\n",
       "    .dataframe tbody tr th {\n",
       "        vertical-align: top;\n",
       "    }\n",
       "\n",
       "    .dataframe thead th {\n",
       "        text-align: right;\n",
       "    }\n",
       "</style>\n",
       "<table border=\"1\" class=\"dataframe\">\n",
       "  <thead>\n",
       "    <tr style=\"text-align: right;\">\n",
       "      <th></th>\n",
       "      <th>visit_id</th>\n",
       "      <th>O00391</th>\n",
       "      <th>O00533</th>\n",
       "      <th>O00584</th>\n",
       "      <th>O14498</th>\n",
       "      <th>O14773</th>\n",
       "      <th>O14791</th>\n",
       "      <th>O15240</th>\n",
       "      <th>O15394</th>\n",
       "      <th>O43505</th>\n",
       "      <th>...</th>\n",
       "      <th>YSLTYIYTGLSK</th>\n",
       "      <th>YTTEIIK</th>\n",
       "      <th>YVGGQEHFAHLLILR</th>\n",
       "      <th>YVM(UniMod_35)LPVADQDQC(UniMod_4)IR</th>\n",
       "      <th>YVMLPVADQDQC(UniMod_4)IR</th>\n",
       "      <th>YVNKEIQNAVNGVK</th>\n",
       "      <th>YWGVASFLQK</th>\n",
       "      <th>YYC(UniMod_4)FQGNQFLR</th>\n",
       "      <th>YYTYLIMNK</th>\n",
       "      <th>YYWGGQYTWDMAK</th>\n",
       "    </tr>\n",
       "  </thead>\n",
       "  <tbody>\n",
       "    <tr>\n",
       "      <th>0</th>\n",
       "      <td>10053_0</td>\n",
       "      <td>9104.27</td>\n",
       "      <td>402321.0</td>\n",
       "      <td>NaN</td>\n",
       "      <td>NaN</td>\n",
       "      <td>7150.57</td>\n",
       "      <td>2497.84</td>\n",
       "      <td>83002.9</td>\n",
       "      <td>15113.6</td>\n",
       "      <td>167327.0</td>\n",
       "      <td>...</td>\n",
       "      <td>202274.0</td>\n",
       "      <td>NaN</td>\n",
       "      <td>4401830.0</td>\n",
       "      <td>77482.6</td>\n",
       "      <td>583075.0</td>\n",
       "      <td>76705.7</td>\n",
       "      <td>104260.0</td>\n",
       "      <td>530223.0</td>\n",
       "      <td>NaN</td>\n",
       "      <td>7207.30</td>\n",
       "    </tr>\n",
       "    <tr>\n",
       "      <th>1</th>\n",
       "      <td>10053_12</td>\n",
       "      <td>10464.20</td>\n",
       "      <td>435586.0</td>\n",
       "      <td>NaN</td>\n",
       "      <td>NaN</td>\n",
       "      <td>NaN</td>\n",
       "      <td>NaN</td>\n",
       "      <td>197117.0</td>\n",
       "      <td>15099.1</td>\n",
       "      <td>164268.0</td>\n",
       "      <td>...</td>\n",
       "      <td>201009.0</td>\n",
       "      <td>NaN</td>\n",
       "      <td>5001750.0</td>\n",
       "      <td>36745.3</td>\n",
       "      <td>355643.0</td>\n",
       "      <td>92078.1</td>\n",
       "      <td>123254.0</td>\n",
       "      <td>453883.0</td>\n",
       "      <td>49281.9</td>\n",
       "      <td>25332.80</td>\n",
       "    </tr>\n",
       "    <tr>\n",
       "      <th>2</th>\n",
       "      <td>10053_18</td>\n",
       "      <td>13235.70</td>\n",
       "      <td>507386.0</td>\n",
       "      <td>7126.96</td>\n",
       "      <td>24525.7</td>\n",
       "      <td>NaN</td>\n",
       "      <td>2372.71</td>\n",
       "      <td>126506.0</td>\n",
       "      <td>16289.6</td>\n",
       "      <td>168107.0</td>\n",
       "      <td>...</td>\n",
       "      <td>220728.0</td>\n",
       "      <td>NaN</td>\n",
       "      <td>5424380.0</td>\n",
       "      <td>39016.0</td>\n",
       "      <td>496021.0</td>\n",
       "      <td>63203.6</td>\n",
       "      <td>128336.0</td>\n",
       "      <td>447505.0</td>\n",
       "      <td>52389.1</td>\n",
       "      <td>21235.70</td>\n",
       "    </tr>\n",
       "    <tr>\n",
       "      <th>3</th>\n",
       "      <td>10138_12</td>\n",
       "      <td>12600.20</td>\n",
       "      <td>494581.0</td>\n",
       "      <td>9165.06</td>\n",
       "      <td>27193.5</td>\n",
       "      <td>22506.10</td>\n",
       "      <td>6015.90</td>\n",
       "      <td>156313.0</td>\n",
       "      <td>54546.4</td>\n",
       "      <td>204013.0</td>\n",
       "      <td>...</td>\n",
       "      <td>188362.0</td>\n",
       "      <td>9433.71</td>\n",
       "      <td>3900280.0</td>\n",
       "      <td>48210.3</td>\n",
       "      <td>328482.0</td>\n",
       "      <td>89822.1</td>\n",
       "      <td>129964.0</td>\n",
       "      <td>552232.0</td>\n",
       "      <td>65657.8</td>\n",
       "      <td>9876.98</td>\n",
       "    </tr>\n",
       "    <tr>\n",
       "      <th>4</th>\n",
       "      <td>10138_24</td>\n",
       "      <td>12003.20</td>\n",
       "      <td>522138.0</td>\n",
       "      <td>4498.51</td>\n",
       "      <td>17189.8</td>\n",
       "      <td>29112.40</td>\n",
       "      <td>2665.15</td>\n",
       "      <td>151169.0</td>\n",
       "      <td>52338.1</td>\n",
       "      <td>240892.0</td>\n",
       "      <td>...</td>\n",
       "      <td>206187.0</td>\n",
       "      <td>6365.15</td>\n",
       "      <td>3521800.0</td>\n",
       "      <td>69984.6</td>\n",
       "      <td>496737.0</td>\n",
       "      <td>80919.3</td>\n",
       "      <td>111799.0</td>\n",
       "      <td>NaN</td>\n",
       "      <td>56977.6</td>\n",
       "      <td>4903.09</td>\n",
       "    </tr>\n",
       "  </tbody>\n",
       "</table>\n",
       "<p>5 rows × 1196 columns</p>\n",
       "</div>"
      ],
      "text/plain": [
       "   visit_id    O00391    O00533   O00584   O14498    O14773   O14791  \\\n",
       "0   10053_0   9104.27  402321.0      NaN      NaN   7150.57  2497.84   \n",
       "1  10053_12  10464.20  435586.0      NaN      NaN       NaN      NaN   \n",
       "2  10053_18  13235.70  507386.0  7126.96  24525.7       NaN  2372.71   \n",
       "3  10138_12  12600.20  494581.0  9165.06  27193.5  22506.10  6015.90   \n",
       "4  10138_24  12003.20  522138.0  4498.51  17189.8  29112.40  2665.15   \n",
       "\n",
       "     O15240   O15394    O43505  ...  YSLTYIYTGLSK  YTTEIIK  YVGGQEHFAHLLILR  \\\n",
       "0   83002.9  15113.6  167327.0  ...      202274.0      NaN        4401830.0   \n",
       "1  197117.0  15099.1  164268.0  ...      201009.0      NaN        5001750.0   \n",
       "2  126506.0  16289.6  168107.0  ...      220728.0      NaN        5424380.0   \n",
       "3  156313.0  54546.4  204013.0  ...      188362.0  9433.71        3900280.0   \n",
       "4  151169.0  52338.1  240892.0  ...      206187.0  6365.15        3521800.0   \n",
       "\n",
       "   YVM(UniMod_35)LPVADQDQC(UniMod_4)IR  YVMLPVADQDQC(UniMod_4)IR  \\\n",
       "0                              77482.6                  583075.0   \n",
       "1                              36745.3                  355643.0   \n",
       "2                              39016.0                  496021.0   \n",
       "3                              48210.3                  328482.0   \n",
       "4                              69984.6                  496737.0   \n",
       "\n",
       "   YVNKEIQNAVNGVK  YWGVASFLQK  YYC(UniMod_4)FQGNQFLR  YYTYLIMNK  YYWGGQYTWDMAK  \n",
       "0         76705.7    104260.0               530223.0        NaN        7207.30  \n",
       "1         92078.1    123254.0               453883.0    49281.9       25332.80  \n",
       "2         63203.6    128336.0               447505.0    52389.1       21235.70  \n",
       "3         89822.1    129964.0               552232.0    65657.8        9876.98  \n",
       "4         80919.3    111799.0                    NaN    56977.6        4903.09  \n",
       "\n",
       "[5 rows x 1196 columns]"
      ]
     },
     "execution_count": 13,
     "metadata": {},
     "output_type": "execute_result"
    }
   ],
   "source": [
    "pp_df.head()"
   ]
  },
  {
   "cell_type": "markdown",
   "id": "5fd32706",
   "metadata": {
    "papermill": {
     "duration": 0.016509,
     "end_time": "2023-06-08T14:37:44.057471",
     "exception": false,
     "start_time": "2023-06-08T14:37:44.040962",
     "status": "completed"
    },
    "tags": []
   },
   "source": [
    "Добавим в датасет месяца из train_clinical"
   ]
  },
  {
   "cell_type": "code",
   "execution_count": 14,
   "id": "f1653663",
   "metadata": {
    "execution": {
     "iopub.execute_input": "2023-06-08T14:37:44.093779Z",
     "iopub.status.busy": "2023-06-08T14:37:44.092885Z",
     "iopub.status.idle": "2023-06-08T14:37:44.116122Z",
     "shell.execute_reply": "2023-06-08T14:37:44.114998Z"
    },
    "papermill": {
     "duration": 0.044615,
     "end_time": "2023-06-08T14:37:44.118816",
     "exception": false,
     "start_time": "2023-06-08T14:37:44.074201",
     "status": "completed"
    },
    "tags": []
   },
   "outputs": [],
   "source": [
    "single_df = pp_df.merge(train_clinical[['visit_id', 'visit_month']], on = ['visit_id'], how = 'left')"
   ]
  },
  {
   "cell_type": "code",
   "execution_count": 15,
   "id": "1534bb6a",
   "metadata": {
    "execution": {
     "iopub.execute_input": "2023-06-08T14:37:44.155096Z",
     "iopub.status.busy": "2023-06-08T14:37:44.154647Z",
     "iopub.status.idle": "2023-06-08T14:37:44.194980Z",
     "shell.execute_reply": "2023-06-08T14:37:44.193978Z"
    },
    "papermill": {
     "duration": 0.06158,
     "end_time": "2023-06-08T14:37:44.197392",
     "exception": false,
     "start_time": "2023-06-08T14:37:44.135812",
     "status": "completed"
    },
    "tags": []
   },
   "outputs": [
    {
     "data": {
      "text/html": [
       "<div>\n",
       "<style scoped>\n",
       "    .dataframe tbody tr th:only-of-type {\n",
       "        vertical-align: middle;\n",
       "    }\n",
       "\n",
       "    .dataframe tbody tr th {\n",
       "        vertical-align: top;\n",
       "    }\n",
       "\n",
       "    .dataframe thead th {\n",
       "        text-align: right;\n",
       "    }\n",
       "</style>\n",
       "<table border=\"1\" class=\"dataframe\">\n",
       "  <thead>\n",
       "    <tr style=\"text-align: right;\">\n",
       "      <th></th>\n",
       "      <th>visit_id</th>\n",
       "      <th>O00391</th>\n",
       "      <th>O00533</th>\n",
       "      <th>O00584</th>\n",
       "      <th>O14498</th>\n",
       "      <th>O14773</th>\n",
       "      <th>O14791</th>\n",
       "      <th>O15240</th>\n",
       "      <th>O15394</th>\n",
       "      <th>O43505</th>\n",
       "      <th>...</th>\n",
       "      <th>YTTEIIK</th>\n",
       "      <th>YVGGQEHFAHLLILR</th>\n",
       "      <th>YVM(UniMod_35)LPVADQDQC(UniMod_4)IR</th>\n",
       "      <th>YVMLPVADQDQC(UniMod_4)IR</th>\n",
       "      <th>YVNKEIQNAVNGVK</th>\n",
       "      <th>YWGVASFLQK</th>\n",
       "      <th>YYC(UniMod_4)FQGNQFLR</th>\n",
       "      <th>YYTYLIMNK</th>\n",
       "      <th>YYWGGQYTWDMAK</th>\n",
       "      <th>visit_month</th>\n",
       "    </tr>\n",
       "  </thead>\n",
       "  <tbody>\n",
       "    <tr>\n",
       "      <th>0</th>\n",
       "      <td>10053_0</td>\n",
       "      <td>9104.27</td>\n",
       "      <td>402321.0</td>\n",
       "      <td>NaN</td>\n",
       "      <td>NaN</td>\n",
       "      <td>7150.57</td>\n",
       "      <td>2497.84</td>\n",
       "      <td>83002.9</td>\n",
       "      <td>15113.6</td>\n",
       "      <td>167327.0</td>\n",
       "      <td>...</td>\n",
       "      <td>NaN</td>\n",
       "      <td>4401830.0</td>\n",
       "      <td>77482.6</td>\n",
       "      <td>583075.0</td>\n",
       "      <td>76705.7</td>\n",
       "      <td>104260.0</td>\n",
       "      <td>530223.0</td>\n",
       "      <td>NaN</td>\n",
       "      <td>7207.30</td>\n",
       "      <td>0.0</td>\n",
       "    </tr>\n",
       "    <tr>\n",
       "      <th>1</th>\n",
       "      <td>10053_12</td>\n",
       "      <td>10464.20</td>\n",
       "      <td>435586.0</td>\n",
       "      <td>NaN</td>\n",
       "      <td>NaN</td>\n",
       "      <td>NaN</td>\n",
       "      <td>NaN</td>\n",
       "      <td>197117.0</td>\n",
       "      <td>15099.1</td>\n",
       "      <td>164268.0</td>\n",
       "      <td>...</td>\n",
       "      <td>NaN</td>\n",
       "      <td>5001750.0</td>\n",
       "      <td>36745.3</td>\n",
       "      <td>355643.0</td>\n",
       "      <td>92078.1</td>\n",
       "      <td>123254.0</td>\n",
       "      <td>453883.0</td>\n",
       "      <td>49281.9</td>\n",
       "      <td>25332.80</td>\n",
       "      <td>12.0</td>\n",
       "    </tr>\n",
       "    <tr>\n",
       "      <th>2</th>\n",
       "      <td>10053_18</td>\n",
       "      <td>13235.70</td>\n",
       "      <td>507386.0</td>\n",
       "      <td>7126.96</td>\n",
       "      <td>24525.7</td>\n",
       "      <td>NaN</td>\n",
       "      <td>2372.71</td>\n",
       "      <td>126506.0</td>\n",
       "      <td>16289.6</td>\n",
       "      <td>168107.0</td>\n",
       "      <td>...</td>\n",
       "      <td>NaN</td>\n",
       "      <td>5424380.0</td>\n",
       "      <td>39016.0</td>\n",
       "      <td>496021.0</td>\n",
       "      <td>63203.6</td>\n",
       "      <td>128336.0</td>\n",
       "      <td>447505.0</td>\n",
       "      <td>52389.1</td>\n",
       "      <td>21235.70</td>\n",
       "      <td>18.0</td>\n",
       "    </tr>\n",
       "    <tr>\n",
       "      <th>3</th>\n",
       "      <td>10138_12</td>\n",
       "      <td>12600.20</td>\n",
       "      <td>494581.0</td>\n",
       "      <td>9165.06</td>\n",
       "      <td>27193.5</td>\n",
       "      <td>22506.10</td>\n",
       "      <td>6015.90</td>\n",
       "      <td>156313.0</td>\n",
       "      <td>54546.4</td>\n",
       "      <td>204013.0</td>\n",
       "      <td>...</td>\n",
       "      <td>9433.71</td>\n",
       "      <td>3900280.0</td>\n",
       "      <td>48210.3</td>\n",
       "      <td>328482.0</td>\n",
       "      <td>89822.1</td>\n",
       "      <td>129964.0</td>\n",
       "      <td>552232.0</td>\n",
       "      <td>65657.8</td>\n",
       "      <td>9876.98</td>\n",
       "      <td>12.0</td>\n",
       "    </tr>\n",
       "    <tr>\n",
       "      <th>4</th>\n",
       "      <td>10138_24</td>\n",
       "      <td>12003.20</td>\n",
       "      <td>522138.0</td>\n",
       "      <td>4498.51</td>\n",
       "      <td>17189.8</td>\n",
       "      <td>29112.40</td>\n",
       "      <td>2665.15</td>\n",
       "      <td>151169.0</td>\n",
       "      <td>52338.1</td>\n",
       "      <td>240892.0</td>\n",
       "      <td>...</td>\n",
       "      <td>6365.15</td>\n",
       "      <td>3521800.0</td>\n",
       "      <td>69984.6</td>\n",
       "      <td>496737.0</td>\n",
       "      <td>80919.3</td>\n",
       "      <td>111799.0</td>\n",
       "      <td>NaN</td>\n",
       "      <td>56977.6</td>\n",
       "      <td>4903.09</td>\n",
       "      <td>24.0</td>\n",
       "    </tr>\n",
       "    <tr>\n",
       "      <th>...</th>\n",
       "      <td>...</td>\n",
       "      <td>...</td>\n",
       "      <td>...</td>\n",
       "      <td>...</td>\n",
       "      <td>...</td>\n",
       "      <td>...</td>\n",
       "      <td>...</td>\n",
       "      <td>...</td>\n",
       "      <td>...</td>\n",
       "      <td>...</td>\n",
       "      <td>...</td>\n",
       "      <td>...</td>\n",
       "      <td>...</td>\n",
       "      <td>...</td>\n",
       "      <td>...</td>\n",
       "      <td>...</td>\n",
       "      <td>...</td>\n",
       "      <td>...</td>\n",
       "      <td>...</td>\n",
       "      <td>...</td>\n",
       "      <td>...</td>\n",
       "    </tr>\n",
       "    <tr>\n",
       "      <th>1108</th>\n",
       "      <td>8699_24</td>\n",
       "      <td>9983.00</td>\n",
       "      <td>400290.0</td>\n",
       "      <td>24240.10</td>\n",
       "      <td>NaN</td>\n",
       "      <td>16943.50</td>\n",
       "      <td>6303.17</td>\n",
       "      <td>77493.6</td>\n",
       "      <td>46435.3</td>\n",
       "      <td>254247.0</td>\n",
       "      <td>...</td>\n",
       "      <td>8615.27</td>\n",
       "      <td>8770410.0</td>\n",
       "      <td>33599.1</td>\n",
       "      <td>926094.0</td>\n",
       "      <td>118897.0</td>\n",
       "      <td>133682.0</td>\n",
       "      <td>571879.0</td>\n",
       "      <td>80268.3</td>\n",
       "      <td>54889.70</td>\n",
       "      <td>24.0</td>\n",
       "    </tr>\n",
       "    <tr>\n",
       "      <th>1109</th>\n",
       "      <td>942_12</td>\n",
       "      <td>6757.32</td>\n",
       "      <td>360858.0</td>\n",
       "      <td>18367.60</td>\n",
       "      <td>14760.7</td>\n",
       "      <td>18603.40</td>\n",
       "      <td>1722.77</td>\n",
       "      <td>86847.4</td>\n",
       "      <td>37741.3</td>\n",
       "      <td>212132.0</td>\n",
       "      <td>...</td>\n",
       "      <td>4767.63</td>\n",
       "      <td>374307.0</td>\n",
       "      <td>35767.3</td>\n",
       "      <td>250397.0</td>\n",
       "      <td>65966.9</td>\n",
       "      <td>77976.8</td>\n",
       "      <td>486239.0</td>\n",
       "      <td>45032.7</td>\n",
       "      <td>NaN</td>\n",
       "      <td>12.0</td>\n",
       "    </tr>\n",
       "    <tr>\n",
       "      <th>1110</th>\n",
       "      <td>942_24</td>\n",
       "      <td>NaN</td>\n",
       "      <td>352722.0</td>\n",
       "      <td>22834.90</td>\n",
       "      <td>23393.1</td>\n",
       "      <td>16693.50</td>\n",
       "      <td>1487.91</td>\n",
       "      <td>114772.0</td>\n",
       "      <td>36095.7</td>\n",
       "      <td>185836.0</td>\n",
       "      <td>...</td>\n",
       "      <td>5554.53</td>\n",
       "      <td>NaN</td>\n",
       "      <td>64049.8</td>\n",
       "      <td>479473.0</td>\n",
       "      <td>68505.7</td>\n",
       "      <td>74483.1</td>\n",
       "      <td>561398.0</td>\n",
       "      <td>52916.4</td>\n",
       "      <td>21847.60</td>\n",
       "      <td>24.0</td>\n",
       "    </tr>\n",
       "    <tr>\n",
       "      <th>1111</th>\n",
       "      <td>942_48</td>\n",
       "      <td>11627.80</td>\n",
       "      <td>251820.0</td>\n",
       "      <td>22046.50</td>\n",
       "      <td>26360.5</td>\n",
       "      <td>22440.20</td>\n",
       "      <td>2117.43</td>\n",
       "      <td>82241.9</td>\n",
       "      <td>30146.6</td>\n",
       "      <td>167633.0</td>\n",
       "      <td>...</td>\n",
       "      <td>6310.09</td>\n",
       "      <td>NaN</td>\n",
       "      <td>28008.8</td>\n",
       "      <td>231359.0</td>\n",
       "      <td>63265.8</td>\n",
       "      <td>64601.8</td>\n",
       "      <td>632782.0</td>\n",
       "      <td>51123.7</td>\n",
       "      <td>20700.30</td>\n",
       "      <td>48.0</td>\n",
       "    </tr>\n",
       "    <tr>\n",
       "      <th>1112</th>\n",
       "      <td>942_6</td>\n",
       "      <td>11218.70</td>\n",
       "      <td>399518.0</td>\n",
       "      <td>20581.00</td>\n",
       "      <td>31290.9</td>\n",
       "      <td>6173.58</td>\n",
       "      <td>2564.37</td>\n",
       "      <td>160526.0</td>\n",
       "      <td>43423.1</td>\n",
       "      <td>165524.0</td>\n",
       "      <td>...</td>\n",
       "      <td>6399.80</td>\n",
       "      <td>NaN</td>\n",
       "      <td>57571.4</td>\n",
       "      <td>480951.0</td>\n",
       "      <td>80001.2</td>\n",
       "      <td>79661.9</td>\n",
       "      <td>573300.0</td>\n",
       "      <td>48005.8</td>\n",
       "      <td>15674.10</td>\n",
       "      <td>6.0</td>\n",
       "    </tr>\n",
       "  </tbody>\n",
       "</table>\n",
       "<p>1113 rows × 1197 columns</p>\n",
       "</div>"
      ],
      "text/plain": [
       "      visit_id    O00391    O00533    O00584   O14498    O14773   O14791  \\\n",
       "0      10053_0   9104.27  402321.0       NaN      NaN   7150.57  2497.84   \n",
       "1     10053_12  10464.20  435586.0       NaN      NaN       NaN      NaN   \n",
       "2     10053_18  13235.70  507386.0   7126.96  24525.7       NaN  2372.71   \n",
       "3     10138_12  12600.20  494581.0   9165.06  27193.5  22506.10  6015.90   \n",
       "4     10138_24  12003.20  522138.0   4498.51  17189.8  29112.40  2665.15   \n",
       "...        ...       ...       ...       ...      ...       ...      ...   \n",
       "1108   8699_24   9983.00  400290.0  24240.10      NaN  16943.50  6303.17   \n",
       "1109    942_12   6757.32  360858.0  18367.60  14760.7  18603.40  1722.77   \n",
       "1110    942_24       NaN  352722.0  22834.90  23393.1  16693.50  1487.91   \n",
       "1111    942_48  11627.80  251820.0  22046.50  26360.5  22440.20  2117.43   \n",
       "1112     942_6  11218.70  399518.0  20581.00  31290.9   6173.58  2564.37   \n",
       "\n",
       "        O15240   O15394    O43505  ...  YTTEIIK  YVGGQEHFAHLLILR  \\\n",
       "0      83002.9  15113.6  167327.0  ...      NaN        4401830.0   \n",
       "1     197117.0  15099.1  164268.0  ...      NaN        5001750.0   \n",
       "2     126506.0  16289.6  168107.0  ...      NaN        5424380.0   \n",
       "3     156313.0  54546.4  204013.0  ...  9433.71        3900280.0   \n",
       "4     151169.0  52338.1  240892.0  ...  6365.15        3521800.0   \n",
       "...        ...      ...       ...  ...      ...              ...   \n",
       "1108   77493.6  46435.3  254247.0  ...  8615.27        8770410.0   \n",
       "1109   86847.4  37741.3  212132.0  ...  4767.63         374307.0   \n",
       "1110  114772.0  36095.7  185836.0  ...  5554.53              NaN   \n",
       "1111   82241.9  30146.6  167633.0  ...  6310.09              NaN   \n",
       "1112  160526.0  43423.1  165524.0  ...  6399.80              NaN   \n",
       "\n",
       "      YVM(UniMod_35)LPVADQDQC(UniMod_4)IR  YVMLPVADQDQC(UniMod_4)IR  \\\n",
       "0                                 77482.6                  583075.0   \n",
       "1                                 36745.3                  355643.0   \n",
       "2                                 39016.0                  496021.0   \n",
       "3                                 48210.3                  328482.0   \n",
       "4                                 69984.6                  496737.0   \n",
       "...                                   ...                       ...   \n",
       "1108                              33599.1                  926094.0   \n",
       "1109                              35767.3                  250397.0   \n",
       "1110                              64049.8                  479473.0   \n",
       "1111                              28008.8                  231359.0   \n",
       "1112                              57571.4                  480951.0   \n",
       "\n",
       "      YVNKEIQNAVNGVK  YWGVASFLQK  YYC(UniMod_4)FQGNQFLR  YYTYLIMNK  \\\n",
       "0            76705.7    104260.0               530223.0        NaN   \n",
       "1            92078.1    123254.0               453883.0    49281.9   \n",
       "2            63203.6    128336.0               447505.0    52389.1   \n",
       "3            89822.1    129964.0               552232.0    65657.8   \n",
       "4            80919.3    111799.0                    NaN    56977.6   \n",
       "...              ...         ...                    ...        ...   \n",
       "1108        118897.0    133682.0               571879.0    80268.3   \n",
       "1109         65966.9     77976.8               486239.0    45032.7   \n",
       "1110         68505.7     74483.1               561398.0    52916.4   \n",
       "1111         63265.8     64601.8               632782.0    51123.7   \n",
       "1112         80001.2     79661.9               573300.0    48005.8   \n",
       "\n",
       "      YYWGGQYTWDMAK  visit_month  \n",
       "0           7207.30          0.0  \n",
       "1          25332.80         12.0  \n",
       "2          21235.70         18.0  \n",
       "3           9876.98         12.0  \n",
       "4           4903.09         24.0  \n",
       "...             ...          ...  \n",
       "1108       54889.70         24.0  \n",
       "1109            NaN         12.0  \n",
       "1110       21847.60         24.0  \n",
       "1111       20700.30         48.0  \n",
       "1112       15674.10          6.0  \n",
       "\n",
       "[1113 rows x 1197 columns]"
      ]
     },
     "execution_count": 15,
     "metadata": {},
     "output_type": "execute_result"
    }
   ],
   "source": [
    "single_df"
   ]
  },
  {
   "cell_type": "markdown",
   "id": "9bbebcb2",
   "metadata": {
    "papermill": {
     "duration": 0.017331,
     "end_time": "2023-06-08T14:37:44.232813",
     "exception": false,
     "start_time": "2023-06-08T14:37:44.215482",
     "status": "completed"
    },
    "tags": []
   },
   "source": [
    "Напишем это код как функцию"
   ]
  },
  {
   "cell_type": "code",
   "execution_count": 16,
   "id": "cb8d964a",
   "metadata": {
    "execution": {
     "iopub.execute_input": "2023-06-08T14:37:44.270873Z",
     "iopub.status.busy": "2023-06-08T14:37:44.270072Z",
     "iopub.status.idle": "2023-06-08T14:37:44.276989Z",
     "shell.execute_reply": "2023-06-08T14:37:44.275945Z"
    },
    "papermill": {
     "duration": 0.0288,
     "end_time": "2023-06-08T14:37:44.279619",
     "exception": false,
     "start_time": "2023-06-08T14:37:44.250819",
     "status": "completed"
    },
    "tags": []
   },
   "outputs": [],
   "source": [
    "def prepare_dataset(train_proteins, train_peptides):\n",
    "    \n",
    "    df_protein_grouped = train_proteins.groupby(['visit_id','UniProt'])['NPX'].mean().reset_index()\n",
    "    df_peptide_grouped = train_peptides.groupby(['visit_id','Peptide'])['PeptideAbundance'].mean().reset_index()\n",
    "    \n",
    "    df_protein = df_protein_grouped.pivot(index='visit_id',columns = 'UniProt', values = 'NPX').rename_axis(columns=None).reset_index()\n",
    "    df_peptide = df_peptide_grouped.pivot(index='visit_id',columns = 'Peptide', values = 'PeptideAbundance').rename_axis(columns=None).reset_index()\n",
    "    \n",
    "    pp_df = df_protein.merge(df_peptide, on = ['visit_id'], how = 'left')\n",
    "    \n",
    "    return pp_df"
   ]
  },
  {
   "cell_type": "markdown",
   "id": "9679e462",
   "metadata": {
    "papermill": {
     "duration": 0.020514,
     "end_time": "2023-06-08T14:37:44.318876",
     "exception": false,
     "start_time": "2023-06-08T14:37:44.298362",
     "status": "completed"
    },
    "tags": []
   },
   "source": [
    "# Future Engineering \n"
   ]
  },
  {
   "cell_type": "code",
   "execution_count": 17,
   "id": "3fe7f8bb",
   "metadata": {
    "execution": {
     "iopub.execute_input": "2023-06-08T14:37:44.356202Z",
     "iopub.status.busy": "2023-06-08T14:37:44.355491Z",
     "iopub.status.idle": "2023-06-08T14:37:44.360274Z",
     "shell.execute_reply": "2023-06-08T14:37:44.359436Z"
    },
    "papermill": {
     "duration": 0.026193,
     "end_time": "2023-06-08T14:37:44.362561",
     "exception": false,
     "start_time": "2023-06-08T14:37:44.336368",
     "status": "completed"
    },
    "tags": []
   },
   "outputs": [],
   "source": [
    "FEATURES_1 = [i for i in single_df.columns if i not in [\"visit_id\"]]"
   ]
  },
  {
   "cell_type": "code",
   "execution_count": 18,
   "id": "0fdab5f2",
   "metadata": {
    "execution": {
     "iopub.execute_input": "2023-06-08T14:37:44.400369Z",
     "iopub.status.busy": "2023-06-08T14:37:44.399614Z",
     "iopub.status.idle": "2023-06-08T14:37:44.431067Z",
     "shell.execute_reply": "2023-06-08T14:37:44.429555Z"
    },
    "papermill": {
     "duration": 0.05311,
     "end_time": "2023-06-08T14:37:44.433742",
     "exception": false,
     "start_time": "2023-06-08T14:37:44.380632",
     "status": "completed"
    },
    "tags": []
   },
   "outputs": [],
   "source": [
    "# train_clinical['is_on_medication'] = train_clinical.apply(lambda row: 1 if row['upd23b_clinical_state_on_medication'] == 'On' else 0, axis=1)\n",
    "# single_df = single_df.merge(train_clinical[['visit_id', 'is_on_medication']], how='left', left_on='visit_id', right_on='visit_id')\n",
    "single_df['peptide_sum'] = single_df.iloc[:, 1:228].sum(axis=1)\n",
    "single_df['protein_sum'] = single_df.iloc[:, 228:1196].sum(axis=1)\n",
    "single_df['protein_to_peptide_ratio'] = single_df['protein_sum'] / single_df['peptide_sum']"
   ]
  },
  {
   "cell_type": "code",
   "execution_count": 19,
   "id": "e648a8a8",
   "metadata": {
    "execution": {
     "iopub.execute_input": "2023-06-08T14:37:44.471380Z",
     "iopub.status.busy": "2023-06-08T14:37:44.470901Z",
     "iopub.status.idle": "2023-06-08T14:37:44.511896Z",
     "shell.execute_reply": "2023-06-08T14:37:44.510708Z"
    },
    "papermill": {
     "duration": 0.062556,
     "end_time": "2023-06-08T14:37:44.514316",
     "exception": false,
     "start_time": "2023-06-08T14:37:44.451760",
     "status": "completed"
    },
    "tags": []
   },
   "outputs": [
    {
     "data": {
      "text/html": [
       "<div>\n",
       "<style scoped>\n",
       "    .dataframe tbody tr th:only-of-type {\n",
       "        vertical-align: middle;\n",
       "    }\n",
       "\n",
       "    .dataframe tbody tr th {\n",
       "        vertical-align: top;\n",
       "    }\n",
       "\n",
       "    .dataframe thead th {\n",
       "        text-align: right;\n",
       "    }\n",
       "</style>\n",
       "<table border=\"1\" class=\"dataframe\">\n",
       "  <thead>\n",
       "    <tr style=\"text-align: right;\">\n",
       "      <th></th>\n",
       "      <th>visit_id</th>\n",
       "      <th>O00391</th>\n",
       "      <th>O00533</th>\n",
       "      <th>O00584</th>\n",
       "      <th>O14498</th>\n",
       "      <th>O14773</th>\n",
       "      <th>O14791</th>\n",
       "      <th>O15240</th>\n",
       "      <th>O15394</th>\n",
       "      <th>O43505</th>\n",
       "      <th>...</th>\n",
       "      <th>YVMLPVADQDQC(UniMod_4)IR</th>\n",
       "      <th>YVNKEIQNAVNGVK</th>\n",
       "      <th>YWGVASFLQK</th>\n",
       "      <th>YYC(UniMod_4)FQGNQFLR</th>\n",
       "      <th>YYTYLIMNK</th>\n",
       "      <th>YYWGGQYTWDMAK</th>\n",
       "      <th>visit_month</th>\n",
       "      <th>peptide_sum</th>\n",
       "      <th>protein_sum</th>\n",
       "      <th>protein_to_peptide_ratio</th>\n",
       "    </tr>\n",
       "  </thead>\n",
       "  <tbody>\n",
       "    <tr>\n",
       "      <th>0</th>\n",
       "      <td>10053_0</td>\n",
       "      <td>9104.27</td>\n",
       "      <td>402321.0</td>\n",
       "      <td>NaN</td>\n",
       "      <td>NaN</td>\n",
       "      <td>7150.57</td>\n",
       "      <td>2497.84</td>\n",
       "      <td>83002.9</td>\n",
       "      <td>15113.6</td>\n",
       "      <td>167327.0</td>\n",
       "      <td>...</td>\n",
       "      <td>583075.0</td>\n",
       "      <td>76705.7</td>\n",
       "      <td>104260.0</td>\n",
       "      <td>530223.0</td>\n",
       "      <td>NaN</td>\n",
       "      <td>7207.30</td>\n",
       "      <td>0.0</td>\n",
       "      <td>4.713356e+08</td>\n",
       "      <td>4.713352e+08</td>\n",
       "      <td>0.999999</td>\n",
       "    </tr>\n",
       "    <tr>\n",
       "      <th>1</th>\n",
       "      <td>10053_12</td>\n",
       "      <td>10464.20</td>\n",
       "      <td>435586.0</td>\n",
       "      <td>NaN</td>\n",
       "      <td>NaN</td>\n",
       "      <td>NaN</td>\n",
       "      <td>NaN</td>\n",
       "      <td>197117.0</td>\n",
       "      <td>15099.1</td>\n",
       "      <td>164268.0</td>\n",
       "      <td>...</td>\n",
       "      <td>355643.0</td>\n",
       "      <td>92078.1</td>\n",
       "      <td>123254.0</td>\n",
       "      <td>453883.0</td>\n",
       "      <td>49281.9</td>\n",
       "      <td>25332.80</td>\n",
       "      <td>12.0</td>\n",
       "      <td>4.666370e+08</td>\n",
       "      <td>4.666371e+08</td>\n",
       "      <td>1.000000</td>\n",
       "    </tr>\n",
       "    <tr>\n",
       "      <th>2</th>\n",
       "      <td>10053_18</td>\n",
       "      <td>13235.70</td>\n",
       "      <td>507386.0</td>\n",
       "      <td>7126.96</td>\n",
       "      <td>24525.7</td>\n",
       "      <td>NaN</td>\n",
       "      <td>2372.71</td>\n",
       "      <td>126506.0</td>\n",
       "      <td>16289.6</td>\n",
       "      <td>168107.0</td>\n",
       "      <td>...</td>\n",
       "      <td>496021.0</td>\n",
       "      <td>63203.6</td>\n",
       "      <td>128336.0</td>\n",
       "      <td>447505.0</td>\n",
       "      <td>52389.1</td>\n",
       "      <td>21235.70</td>\n",
       "      <td>18.0</td>\n",
       "      <td>5.220732e+08</td>\n",
       "      <td>5.220732e+08</td>\n",
       "      <td>1.000000</td>\n",
       "    </tr>\n",
       "    <tr>\n",
       "      <th>3</th>\n",
       "      <td>10138_12</td>\n",
       "      <td>12600.20</td>\n",
       "      <td>494581.0</td>\n",
       "      <td>9165.06</td>\n",
       "      <td>27193.5</td>\n",
       "      <td>22506.10</td>\n",
       "      <td>6015.90</td>\n",
       "      <td>156313.0</td>\n",
       "      <td>54546.4</td>\n",
       "      <td>204013.0</td>\n",
       "      <td>...</td>\n",
       "      <td>328482.0</td>\n",
       "      <td>89822.1</td>\n",
       "      <td>129964.0</td>\n",
       "      <td>552232.0</td>\n",
       "      <td>65657.8</td>\n",
       "      <td>9876.98</td>\n",
       "      <td>12.0</td>\n",
       "      <td>6.515605e+08</td>\n",
       "      <td>6.515605e+08</td>\n",
       "      <td>1.000000</td>\n",
       "    </tr>\n",
       "    <tr>\n",
       "      <th>4</th>\n",
       "      <td>10138_24</td>\n",
       "      <td>12003.20</td>\n",
       "      <td>522138.0</td>\n",
       "      <td>4498.51</td>\n",
       "      <td>17189.8</td>\n",
       "      <td>29112.40</td>\n",
       "      <td>2665.15</td>\n",
       "      <td>151169.0</td>\n",
       "      <td>52338.1</td>\n",
       "      <td>240892.0</td>\n",
       "      <td>...</td>\n",
       "      <td>496737.0</td>\n",
       "      <td>80919.3</td>\n",
       "      <td>111799.0</td>\n",
       "      <td>NaN</td>\n",
       "      <td>56977.6</td>\n",
       "      <td>4903.09</td>\n",
       "      <td>24.0</td>\n",
       "      <td>6.720872e+08</td>\n",
       "      <td>6.720870e+08</td>\n",
       "      <td>1.000000</td>\n",
       "    </tr>\n",
       "    <tr>\n",
       "      <th>...</th>\n",
       "      <td>...</td>\n",
       "      <td>...</td>\n",
       "      <td>...</td>\n",
       "      <td>...</td>\n",
       "      <td>...</td>\n",
       "      <td>...</td>\n",
       "      <td>...</td>\n",
       "      <td>...</td>\n",
       "      <td>...</td>\n",
       "      <td>...</td>\n",
       "      <td>...</td>\n",
       "      <td>...</td>\n",
       "      <td>...</td>\n",
       "      <td>...</td>\n",
       "      <td>...</td>\n",
       "      <td>...</td>\n",
       "      <td>...</td>\n",
       "      <td>...</td>\n",
       "      <td>...</td>\n",
       "      <td>...</td>\n",
       "      <td>...</td>\n",
       "    </tr>\n",
       "    <tr>\n",
       "      <th>1108</th>\n",
       "      <td>8699_24</td>\n",
       "      <td>9983.00</td>\n",
       "      <td>400290.0</td>\n",
       "      <td>24240.10</td>\n",
       "      <td>NaN</td>\n",
       "      <td>16943.50</td>\n",
       "      <td>6303.17</td>\n",
       "      <td>77493.6</td>\n",
       "      <td>46435.3</td>\n",
       "      <td>254247.0</td>\n",
       "      <td>...</td>\n",
       "      <td>926094.0</td>\n",
       "      <td>118897.0</td>\n",
       "      <td>133682.0</td>\n",
       "      <td>571879.0</td>\n",
       "      <td>80268.3</td>\n",
       "      <td>54889.70</td>\n",
       "      <td>24.0</td>\n",
       "      <td>6.618367e+08</td>\n",
       "      <td>6.618368e+08</td>\n",
       "      <td>1.000000</td>\n",
       "    </tr>\n",
       "    <tr>\n",
       "      <th>1109</th>\n",
       "      <td>942_12</td>\n",
       "      <td>6757.32</td>\n",
       "      <td>360858.0</td>\n",
       "      <td>18367.60</td>\n",
       "      <td>14760.7</td>\n",
       "      <td>18603.40</td>\n",
       "      <td>1722.77</td>\n",
       "      <td>86847.4</td>\n",
       "      <td>37741.3</td>\n",
       "      <td>212132.0</td>\n",
       "      <td>...</td>\n",
       "      <td>250397.0</td>\n",
       "      <td>65966.9</td>\n",
       "      <td>77976.8</td>\n",
       "      <td>486239.0</td>\n",
       "      <td>45032.7</td>\n",
       "      <td>NaN</td>\n",
       "      <td>12.0</td>\n",
       "      <td>5.540191e+08</td>\n",
       "      <td>5.540194e+08</td>\n",
       "      <td>1.000001</td>\n",
       "    </tr>\n",
       "    <tr>\n",
       "      <th>1110</th>\n",
       "      <td>942_24</td>\n",
       "      <td>NaN</td>\n",
       "      <td>352722.0</td>\n",
       "      <td>22834.90</td>\n",
       "      <td>23393.1</td>\n",
       "      <td>16693.50</td>\n",
       "      <td>1487.91</td>\n",
       "      <td>114772.0</td>\n",
       "      <td>36095.7</td>\n",
       "      <td>185836.0</td>\n",
       "      <td>...</td>\n",
       "      <td>479473.0</td>\n",
       "      <td>68505.7</td>\n",
       "      <td>74483.1</td>\n",
       "      <td>561398.0</td>\n",
       "      <td>52916.4</td>\n",
       "      <td>21847.60</td>\n",
       "      <td>24.0</td>\n",
       "      <td>5.677028e+08</td>\n",
       "      <td>5.677032e+08</td>\n",
       "      <td>1.000001</td>\n",
       "    </tr>\n",
       "    <tr>\n",
       "      <th>1111</th>\n",
       "      <td>942_48</td>\n",
       "      <td>11627.80</td>\n",
       "      <td>251820.0</td>\n",
       "      <td>22046.50</td>\n",
       "      <td>26360.5</td>\n",
       "      <td>22440.20</td>\n",
       "      <td>2117.43</td>\n",
       "      <td>82241.9</td>\n",
       "      <td>30146.6</td>\n",
       "      <td>167633.0</td>\n",
       "      <td>...</td>\n",
       "      <td>231359.0</td>\n",
       "      <td>63265.8</td>\n",
       "      <td>64601.8</td>\n",
       "      <td>632782.0</td>\n",
       "      <td>51123.7</td>\n",
       "      <td>20700.30</td>\n",
       "      <td>48.0</td>\n",
       "      <td>5.979835e+08</td>\n",
       "      <td>5.979831e+08</td>\n",
       "      <td>0.999999</td>\n",
       "    </tr>\n",
       "    <tr>\n",
       "      <th>1112</th>\n",
       "      <td>942_6</td>\n",
       "      <td>11218.70</td>\n",
       "      <td>399518.0</td>\n",
       "      <td>20581.00</td>\n",
       "      <td>31290.9</td>\n",
       "      <td>6173.58</td>\n",
       "      <td>2564.37</td>\n",
       "      <td>160526.0</td>\n",
       "      <td>43423.1</td>\n",
       "      <td>165524.0</td>\n",
       "      <td>...</td>\n",
       "      <td>480951.0</td>\n",
       "      <td>80001.2</td>\n",
       "      <td>79661.9</td>\n",
       "      <td>573300.0</td>\n",
       "      <td>48005.8</td>\n",
       "      <td>15674.10</td>\n",
       "      <td>6.0</td>\n",
       "      <td>5.350061e+08</td>\n",
       "      <td>5.350063e+08</td>\n",
       "      <td>1.000000</td>\n",
       "    </tr>\n",
       "  </tbody>\n",
       "</table>\n",
       "<p>1113 rows × 1200 columns</p>\n",
       "</div>"
      ],
      "text/plain": [
       "      visit_id    O00391    O00533    O00584   O14498    O14773   O14791  \\\n",
       "0      10053_0   9104.27  402321.0       NaN      NaN   7150.57  2497.84   \n",
       "1     10053_12  10464.20  435586.0       NaN      NaN       NaN      NaN   \n",
       "2     10053_18  13235.70  507386.0   7126.96  24525.7       NaN  2372.71   \n",
       "3     10138_12  12600.20  494581.0   9165.06  27193.5  22506.10  6015.90   \n",
       "4     10138_24  12003.20  522138.0   4498.51  17189.8  29112.40  2665.15   \n",
       "...        ...       ...       ...       ...      ...       ...      ...   \n",
       "1108   8699_24   9983.00  400290.0  24240.10      NaN  16943.50  6303.17   \n",
       "1109    942_12   6757.32  360858.0  18367.60  14760.7  18603.40  1722.77   \n",
       "1110    942_24       NaN  352722.0  22834.90  23393.1  16693.50  1487.91   \n",
       "1111    942_48  11627.80  251820.0  22046.50  26360.5  22440.20  2117.43   \n",
       "1112     942_6  11218.70  399518.0  20581.00  31290.9   6173.58  2564.37   \n",
       "\n",
       "        O15240   O15394    O43505  ...  YVMLPVADQDQC(UniMod_4)IR  \\\n",
       "0      83002.9  15113.6  167327.0  ...                  583075.0   \n",
       "1     197117.0  15099.1  164268.0  ...                  355643.0   \n",
       "2     126506.0  16289.6  168107.0  ...                  496021.0   \n",
       "3     156313.0  54546.4  204013.0  ...                  328482.0   \n",
       "4     151169.0  52338.1  240892.0  ...                  496737.0   \n",
       "...        ...      ...       ...  ...                       ...   \n",
       "1108   77493.6  46435.3  254247.0  ...                  926094.0   \n",
       "1109   86847.4  37741.3  212132.0  ...                  250397.0   \n",
       "1110  114772.0  36095.7  185836.0  ...                  479473.0   \n",
       "1111   82241.9  30146.6  167633.0  ...                  231359.0   \n",
       "1112  160526.0  43423.1  165524.0  ...                  480951.0   \n",
       "\n",
       "      YVNKEIQNAVNGVK  YWGVASFLQK  YYC(UniMod_4)FQGNQFLR  YYTYLIMNK  \\\n",
       "0            76705.7    104260.0               530223.0        NaN   \n",
       "1            92078.1    123254.0               453883.0    49281.9   \n",
       "2            63203.6    128336.0               447505.0    52389.1   \n",
       "3            89822.1    129964.0               552232.0    65657.8   \n",
       "4            80919.3    111799.0                    NaN    56977.6   \n",
       "...              ...         ...                    ...        ...   \n",
       "1108        118897.0    133682.0               571879.0    80268.3   \n",
       "1109         65966.9     77976.8               486239.0    45032.7   \n",
       "1110         68505.7     74483.1               561398.0    52916.4   \n",
       "1111         63265.8     64601.8               632782.0    51123.7   \n",
       "1112         80001.2     79661.9               573300.0    48005.8   \n",
       "\n",
       "      YYWGGQYTWDMAK  visit_month   peptide_sum   protein_sum  \\\n",
       "0           7207.30          0.0  4.713356e+08  4.713352e+08   \n",
       "1          25332.80         12.0  4.666370e+08  4.666371e+08   \n",
       "2          21235.70         18.0  5.220732e+08  5.220732e+08   \n",
       "3           9876.98         12.0  6.515605e+08  6.515605e+08   \n",
       "4           4903.09         24.0  6.720872e+08  6.720870e+08   \n",
       "...             ...          ...           ...           ...   \n",
       "1108       54889.70         24.0  6.618367e+08  6.618368e+08   \n",
       "1109            NaN         12.0  5.540191e+08  5.540194e+08   \n",
       "1110       21847.60         24.0  5.677028e+08  5.677032e+08   \n",
       "1111       20700.30         48.0  5.979835e+08  5.979831e+08   \n",
       "1112       15674.10          6.0  5.350061e+08  5.350063e+08   \n",
       "\n",
       "      protein_to_peptide_ratio  \n",
       "0                     0.999999  \n",
       "1                     1.000000  \n",
       "2                     1.000000  \n",
       "3                     1.000000  \n",
       "4                     1.000000  \n",
       "...                        ...  \n",
       "1108                  1.000000  \n",
       "1109                  1.000001  \n",
       "1110                  1.000001  \n",
       "1111                  0.999999  \n",
       "1112                  1.000000  \n",
       "\n",
       "[1113 rows x 1200 columns]"
      ]
     },
     "execution_count": 19,
     "metadata": {},
     "output_type": "execute_result"
    }
   ],
   "source": [
    "single_df"
   ]
  },
  {
   "cell_type": "markdown",
   "id": "cdfdb40d",
   "metadata": {
    "papermill": {
     "duration": 0.017469,
     "end_time": "2023-06-08T14:37:44.549978",
     "exception": false,
     "start_time": "2023-06-08T14:37:44.532509",
     "status": "completed"
    },
    "tags": []
   },
   "source": [
    "# Exploratory data analysis"
   ]
  },
  {
   "cell_type": "markdown",
   "id": "01c7c7ac",
   "metadata": {
    "papermill": {
     "duration": 0.018208,
     "end_time": "2023-06-08T14:37:44.587530",
     "exception": false,
     "start_time": "2023-06-08T14:37:44.569322",
     "status": "completed"
    },
    "tags": []
   },
   "source": [
    "### Первичный осмотр\n",
    "\n",
    "Посмотрим на размер нашего датасета"
   ]
  },
  {
   "cell_type": "code",
   "execution_count": 20,
   "id": "366c7de3",
   "metadata": {
    "execution": {
     "iopub.execute_input": "2023-06-08T14:37:44.626457Z",
     "iopub.status.busy": "2023-06-08T14:37:44.625412Z",
     "iopub.status.idle": "2023-06-08T14:37:44.634063Z",
     "shell.execute_reply": "2023-06-08T14:37:44.632441Z"
    },
    "papermill": {
     "duration": 0.031069,
     "end_time": "2023-06-08T14:37:44.636560",
     "exception": false,
     "start_time": "2023-06-08T14:37:44.605491",
     "status": "completed"
    },
    "tags": []
   },
   "outputs": [
    {
     "data": {
      "text/plain": [
       "(1113, 1200)"
      ]
     },
     "execution_count": 20,
     "metadata": {},
     "output_type": "execute_result"
    }
   ],
   "source": [
    "single_df.shape"
   ]
  },
  {
   "cell_type": "markdown",
   "id": "921f6062",
   "metadata": {
    "papermill": {
     "duration": 0.017493,
     "end_time": "2023-06-08T14:37:44.673459",
     "exception": false,
     "start_time": "2023-06-08T14:37:44.655966",
     "status": "completed"
    },
    "tags": []
   },
   "source": [
    "Рассмотрим информацию о нашем датасете"
   ]
  },
  {
   "cell_type": "code",
   "execution_count": 21,
   "id": "2948116f",
   "metadata": {
    "execution": {
     "iopub.execute_input": "2023-06-08T14:37:44.711676Z",
     "iopub.status.busy": "2023-06-08T14:37:44.710842Z",
     "iopub.status.idle": "2023-06-08T14:37:47.362829Z",
     "shell.execute_reply": "2023-06-08T14:37:47.361859Z"
    },
    "papermill": {
     "duration": 2.673843,
     "end_time": "2023-06-08T14:37:47.365076",
     "exception": false,
     "start_time": "2023-06-08T14:37:44.691233",
     "status": "completed"
    },
    "tags": []
   },
   "outputs": [
    {
     "data": {
      "text/html": [
       "<div>\n",
       "<style scoped>\n",
       "    .dataframe tbody tr th:only-of-type {\n",
       "        vertical-align: middle;\n",
       "    }\n",
       "\n",
       "    .dataframe tbody tr th {\n",
       "        vertical-align: top;\n",
       "    }\n",
       "\n",
       "    .dataframe thead th {\n",
       "        text-align: right;\n",
       "    }\n",
       "</style>\n",
       "<table border=\"1\" class=\"dataframe\">\n",
       "  <thead>\n",
       "    <tr style=\"text-align: right;\">\n",
       "      <th></th>\n",
       "      <th>O00391</th>\n",
       "      <th>O00533</th>\n",
       "      <th>O00584</th>\n",
       "      <th>O14498</th>\n",
       "      <th>O14773</th>\n",
       "      <th>O14791</th>\n",
       "      <th>O15240</th>\n",
       "      <th>O15394</th>\n",
       "      <th>O43505</th>\n",
       "      <th>O60888</th>\n",
       "      <th>...</th>\n",
       "      <th>YVMLPVADQDQC(UniMod_4)IR</th>\n",
       "      <th>YVNKEIQNAVNGVK</th>\n",
       "      <th>YWGVASFLQK</th>\n",
       "      <th>YYC(UniMod_4)FQGNQFLR</th>\n",
       "      <th>YYTYLIMNK</th>\n",
       "      <th>YYWGGQYTWDMAK</th>\n",
       "      <th>visit_month</th>\n",
       "      <th>peptide_sum</th>\n",
       "      <th>protein_sum</th>\n",
       "      <th>protein_to_peptide_ratio</th>\n",
       "    </tr>\n",
       "  </thead>\n",
       "  <tbody>\n",
       "    <tr>\n",
       "      <th>count</th>\n",
       "      <td>764.000000</td>\n",
       "      <td>1.112000e+03</td>\n",
       "      <td>1100.000000</td>\n",
       "      <td>1032.000000</td>\n",
       "      <td>1047.000000</td>\n",
       "      <td>942.000000</td>\n",
       "      <td>1113.000000</td>\n",
       "      <td>1050.000000</td>\n",
       "      <td>1110.000000</td>\n",
       "      <td>1079.000000</td>\n",
       "      <td>...</td>\n",
       "      <td>1.091000e+03</td>\n",
       "      <td>1111.000000</td>\n",
       "      <td>1089.000000</td>\n",
       "      <td>1105.000000</td>\n",
       "      <td>1030.000000</td>\n",
       "      <td>865.00000</td>\n",
       "      <td>1068.000000</td>\n",
       "      <td>1.113000e+03</td>\n",
       "      <td>1.113000e+03</td>\n",
       "      <td>1.113000e+03</td>\n",
       "    </tr>\n",
       "    <tr>\n",
       "      <th>mean</th>\n",
       "      <td>11641.264435</td>\n",
       "      <td>5.111649e+05</td>\n",
       "      <td>26505.529157</td>\n",
       "      <td>27305.934884</td>\n",
       "      <td>17688.295406</td>\n",
       "      <td>3004.990691</td>\n",
       "      <td>126151.780054</td>\n",
       "      <td>50773.474638</td>\n",
       "      <td>195599.363694</td>\n",
       "      <td>145382.047368</td>\n",
       "      <td>...</td>\n",
       "      <td>6.110779e+05</td>\n",
       "      <td>92581.223041</td>\n",
       "      <td>125937.993436</td>\n",
       "      <td>471554.596652</td>\n",
       "      <td>47068.709311</td>\n",
       "      <td>21072.04823</td>\n",
       "      <td>26.744382</td>\n",
       "      <td>5.671262e+08</td>\n",
       "      <td>5.671262e+08</td>\n",
       "      <td>1.000000e+00</td>\n",
       "    </tr>\n",
       "    <tr>\n",
       "      <th>std</th>\n",
       "      <td>2817.003530</td>\n",
       "      <td>2.357357e+05</td>\n",
       "      <td>10705.152540</td>\n",
       "      <td>8446.187506</td>\n",
       "      <td>7166.325369</td>\n",
       "      <td>1142.159575</td>\n",
       "      <td>72748.393517</td>\n",
       "      <td>21382.028764</td>\n",
       "      <td>79739.704279</td>\n",
       "      <td>58028.089713</td>\n",
       "      <td>...</td>\n",
       "      <td>5.047422e+05</td>\n",
       "      <td>30138.957433</td>\n",
       "      <td>38696.448657</td>\n",
       "      <td>131150.715245</td>\n",
       "      <td>13689.667117</td>\n",
       "      <td>10360.59380</td>\n",
       "      <td>22.839426</td>\n",
       "      <td>9.257932e+07</td>\n",
       "      <td>9.257932e+07</td>\n",
       "      <td>5.791003e-07</td>\n",
       "    </tr>\n",
       "    <tr>\n",
       "      <th>min</th>\n",
       "      <td>873.778000</td>\n",
       "      <td>5.971820e+04</td>\n",
       "      <td>591.103000</td>\n",
       "      <td>8945.340000</td>\n",
       "      <td>2811.120000</td>\n",
       "      <td>336.517000</td>\n",
       "      <td>10717.400000</td>\n",
       "      <td>5806.840000</td>\n",
       "      <td>29740.900000</td>\n",
       "      <td>8358.080000</td>\n",
       "      <td>...</td>\n",
       "      <td>7.494660e+03</td>\n",
       "      <td>869.898000</td>\n",
       "      <td>991.452000</td>\n",
       "      <td>11371.200000</td>\n",
       "      <td>6362.490000</td>\n",
       "      <td>868.90300</td>\n",
       "      <td>0.000000</td>\n",
       "      <td>2.226464e+07</td>\n",
       "      <td>2.226459e+07</td>\n",
       "      <td>9.999981e-01</td>\n",
       "    </tr>\n",
       "    <tr>\n",
       "      <th>25%</th>\n",
       "      <td>9736.857500</td>\n",
       "      <td>3.490590e+05</td>\n",
       "      <td>19941.075000</td>\n",
       "      <td>21123.650000</td>\n",
       "      <td>12920.050000</td>\n",
       "      <td>2189.087500</td>\n",
       "      <td>70560.600000</td>\n",
       "      <td>37008.975000</td>\n",
       "      <td>142054.500000</td>\n",
       "      <td>103983.000000</td>\n",
       "      <td>...</td>\n",
       "      <td>2.929505e+05</td>\n",
       "      <td>70508.150000</td>\n",
       "      <td>100691.000000</td>\n",
       "      <td>384902.000000</td>\n",
       "      <td>37752.375000</td>\n",
       "      <td>14249.90000</td>\n",
       "      <td>6.000000</td>\n",
       "      <td>5.106672e+08</td>\n",
       "      <td>5.106668e+08</td>\n",
       "      <td>9.999996e-01</td>\n",
       "    </tr>\n",
       "    <tr>\n",
       "      <th>50%</th>\n",
       "      <td>11546.400000</td>\n",
       "      <td>4.834425e+05</td>\n",
       "      <td>26529.700000</td>\n",
       "      <td>26624.000000</td>\n",
       "      <td>17399.600000</td>\n",
       "      <td>2865.460000</td>\n",
       "      <td>116900.000000</td>\n",
       "      <td>50375.800000</td>\n",
       "      <td>185616.000000</td>\n",
       "      <td>136452.000000</td>\n",
       "      <td>...</td>\n",
       "      <td>4.702450e+05</td>\n",
       "      <td>88918.600000</td>\n",
       "      <td>123588.000000</td>\n",
       "      <td>463382.000000</td>\n",
       "      <td>45503.150000</td>\n",
       "      <td>20390.90000</td>\n",
       "      <td>24.000000</td>\n",
       "      <td>5.634755e+08</td>\n",
       "      <td>5.634750e+08</td>\n",
       "      <td>1.000000e+00</td>\n",
       "    </tr>\n",
       "    <tr>\n",
       "      <th>75%</th>\n",
       "      <td>13383.025000</td>\n",
       "      <td>6.485572e+05</td>\n",
       "      <td>33222.800000</td>\n",
       "      <td>32459.275000</td>\n",
       "      <td>22077.050000</td>\n",
       "      <td>3593.147500</td>\n",
       "      <td>164947.000000</td>\n",
       "      <td>63446.700000</td>\n",
       "      <td>239731.500000</td>\n",
       "      <td>177451.000000</td>\n",
       "      <td>...</td>\n",
       "      <td>7.592380e+05</td>\n",
       "      <td>110140.000000</td>\n",
       "      <td>149597.000000</td>\n",
       "      <td>549455.000000</td>\n",
       "      <td>54748.350000</td>\n",
       "      <td>27031.90000</td>\n",
       "      <td>48.000000</td>\n",
       "      <td>6.217859e+08</td>\n",
       "      <td>6.217864e+08</td>\n",
       "      <td>1.000000e+00</td>\n",
       "    </tr>\n",
       "    <tr>\n",
       "      <th>max</th>\n",
       "      <td>21361.800000</td>\n",
       "      <td>1.806980e+06</td>\n",
       "      <td>66252.400000</td>\n",
       "      <td>65347.900000</td>\n",
       "      <td>49695.600000</td>\n",
       "      <td>9352.640000</td>\n",
       "      <td>538862.000000</td>\n",
       "      <td>137369.000000</td>\n",
       "      <td>766591.000000</td>\n",
       "      <td>427084.000000</td>\n",
       "      <td>...</td>\n",
       "      <td>3.984710e+06</td>\n",
       "      <td>251526.000000</td>\n",
       "      <td>264224.000000</td>\n",
       "      <td>948416.000000</td>\n",
       "      <td>107220.000000</td>\n",
       "      <td>70020.80000</td>\n",
       "      <td>108.000000</td>\n",
       "      <td>9.365054e+08</td>\n",
       "      <td>9.365051e+08</td>\n",
       "      <td>1.000002e+00</td>\n",
       "    </tr>\n",
       "  </tbody>\n",
       "</table>\n",
       "<p>8 rows × 1199 columns</p>\n",
       "</div>"
      ],
      "text/plain": [
       "             O00391        O00533        O00584        O14498        O14773  \\\n",
       "count    764.000000  1.112000e+03   1100.000000   1032.000000   1047.000000   \n",
       "mean   11641.264435  5.111649e+05  26505.529157  27305.934884  17688.295406   \n",
       "std     2817.003530  2.357357e+05  10705.152540   8446.187506   7166.325369   \n",
       "min      873.778000  5.971820e+04    591.103000   8945.340000   2811.120000   \n",
       "25%     9736.857500  3.490590e+05  19941.075000  21123.650000  12920.050000   \n",
       "50%    11546.400000  4.834425e+05  26529.700000  26624.000000  17399.600000   \n",
       "75%    13383.025000  6.485572e+05  33222.800000  32459.275000  22077.050000   \n",
       "max    21361.800000  1.806980e+06  66252.400000  65347.900000  49695.600000   \n",
       "\n",
       "            O14791         O15240         O15394         O43505  \\\n",
       "count   942.000000    1113.000000    1050.000000    1110.000000   \n",
       "mean   3004.990691  126151.780054   50773.474638  195599.363694   \n",
       "std    1142.159575   72748.393517   21382.028764   79739.704279   \n",
       "min     336.517000   10717.400000    5806.840000   29740.900000   \n",
       "25%    2189.087500   70560.600000   37008.975000  142054.500000   \n",
       "50%    2865.460000  116900.000000   50375.800000  185616.000000   \n",
       "75%    3593.147500  164947.000000   63446.700000  239731.500000   \n",
       "max    9352.640000  538862.000000  137369.000000  766591.000000   \n",
       "\n",
       "              O60888  ...  YVMLPVADQDQC(UniMod_4)IR  YVNKEIQNAVNGVK  \\\n",
       "count    1079.000000  ...              1.091000e+03     1111.000000   \n",
       "mean   145382.047368  ...              6.110779e+05    92581.223041   \n",
       "std     58028.089713  ...              5.047422e+05    30138.957433   \n",
       "min      8358.080000  ...              7.494660e+03      869.898000   \n",
       "25%    103983.000000  ...              2.929505e+05    70508.150000   \n",
       "50%    136452.000000  ...              4.702450e+05    88918.600000   \n",
       "75%    177451.000000  ...              7.592380e+05   110140.000000   \n",
       "max    427084.000000  ...              3.984710e+06   251526.000000   \n",
       "\n",
       "          YWGVASFLQK  YYC(UniMod_4)FQGNQFLR      YYTYLIMNK  YYWGGQYTWDMAK  \\\n",
       "count    1089.000000            1105.000000    1030.000000      865.00000   \n",
       "mean   125937.993436          471554.596652   47068.709311    21072.04823   \n",
       "std     38696.448657          131150.715245   13689.667117    10360.59380   \n",
       "min       991.452000           11371.200000    6362.490000      868.90300   \n",
       "25%    100691.000000          384902.000000   37752.375000    14249.90000   \n",
       "50%    123588.000000          463382.000000   45503.150000    20390.90000   \n",
       "75%    149597.000000          549455.000000   54748.350000    27031.90000   \n",
       "max    264224.000000          948416.000000  107220.000000    70020.80000   \n",
       "\n",
       "       visit_month   peptide_sum   protein_sum  protein_to_peptide_ratio  \n",
       "count  1068.000000  1.113000e+03  1.113000e+03              1.113000e+03  \n",
       "mean     26.744382  5.671262e+08  5.671262e+08              1.000000e+00  \n",
       "std      22.839426  9.257932e+07  9.257932e+07              5.791003e-07  \n",
       "min       0.000000  2.226464e+07  2.226459e+07              9.999981e-01  \n",
       "25%       6.000000  5.106672e+08  5.106668e+08              9.999996e-01  \n",
       "50%      24.000000  5.634755e+08  5.634750e+08              1.000000e+00  \n",
       "75%      48.000000  6.217859e+08  6.217864e+08              1.000000e+00  \n",
       "max     108.000000  9.365054e+08  9.365051e+08              1.000002e+00  \n",
       "\n",
       "[8 rows x 1199 columns]"
      ]
     },
     "execution_count": 21,
     "metadata": {},
     "output_type": "execute_result"
    }
   ],
   "source": [
    "single_df.describe()"
   ]
  },
  {
   "cell_type": "markdown",
   "id": "8823000e",
   "metadata": {
    "papermill": {
     "duration": 0.018253,
     "end_time": "2023-06-08T14:37:47.402076",
     "exception": false,
     "start_time": "2023-06-08T14:37:47.383823",
     "status": "completed"
    },
    "tags": []
   },
   "source": [
    "Пока можно сказать только о том, что все признаки числовые, и их очень много. Рассматривать каждый будет очень расточительно, поэтому сделаем общий осмотр датасета\n",
    "\n",
    "Убедимся что в датасете нет дублей"
   ]
  },
  {
   "cell_type": "code",
   "execution_count": 22,
   "id": "0bed68e9",
   "metadata": {
    "execution": {
     "iopub.execute_input": "2023-06-08T14:37:47.442315Z",
     "iopub.status.busy": "2023-06-08T14:37:47.441578Z",
     "iopub.status.idle": "2023-06-08T14:37:47.894152Z",
     "shell.execute_reply": "2023-06-08T14:37:47.893122Z"
    },
    "papermill": {
     "duration": 0.476072,
     "end_time": "2023-06-08T14:37:47.896667",
     "exception": false,
     "start_time": "2023-06-08T14:37:47.420595",
     "status": "completed"
    },
    "tags": []
   },
   "outputs": [
    {
     "data": {
      "text/plain": [
       "False"
      ]
     },
     "execution_count": 22,
     "metadata": {},
     "output_type": "execute_result"
    }
   ],
   "source": [
    "single_df.duplicated().any()"
   ]
  },
  {
   "cell_type": "markdown",
   "id": "8dcdc24e",
   "metadata": {
    "papermill": {
     "duration": 0.026577,
     "end_time": "2023-06-08T14:37:47.942024",
     "exception": false,
     "start_time": "2023-06-08T14:37:47.915447",
     "status": "completed"
    },
    "tags": []
   },
   "source": [
    "### Поиск выбросов"
   ]
  },
  {
   "cell_type": "markdown",
   "id": "5e36635d",
   "metadata": {
    "papermill": {
     "duration": 0.023024,
     "end_time": "2023-06-08T14:37:47.987330",
     "exception": false,
     "start_time": "2023-06-08T14:37:47.964306",
     "status": "completed"
    },
    "tags": []
   },
   "source": [
    "Выбросы могут плохо повлиять на нашу модель или помешать в заполнении пропусков, поэтому мы займемся их поиском\n",
    "\n",
    "Удалим нечисловую колонку"
   ]
  },
  {
   "cell_type": "code",
   "execution_count": 23,
   "id": "3a2d14ec",
   "metadata": {
    "execution": {
     "iopub.execute_input": "2023-06-08T14:37:48.035142Z",
     "iopub.status.busy": "2023-06-08T14:37:48.034324Z",
     "iopub.status.idle": "2023-06-08T14:37:48.060404Z",
     "shell.execute_reply": "2023-06-08T14:37:48.058933Z"
    },
    "papermill": {
     "duration": 0.0575,
     "end_time": "2023-06-08T14:37:48.063831",
     "exception": false,
     "start_time": "2023-06-08T14:37:48.006331",
     "status": "completed"
    },
    "tags": []
   },
   "outputs": [],
   "source": [
    "data_clean = single_df.drop('visit_id', axis=1)\n",
    "visit_id = single_df.visit_id\n",
    "data_drop = data_clean.copy()"
   ]
  },
  {
   "cell_type": "markdown",
   "id": "6d2ad610",
   "metadata": {
    "papermill": {
     "duration": 0.020179,
     "end_time": "2023-06-08T14:37:48.107178",
     "exception": false,
     "start_time": "2023-06-08T14:37:48.086999",
     "status": "completed"
    },
    "tags": []
   },
   "source": [
    "Будем искать выбросы с помощью квантилей"
   ]
  },
  {
   "cell_type": "code",
   "execution_count": 24,
   "id": "311c4b76",
   "metadata": {
    "execution": {
     "iopub.execute_input": "2023-06-08T14:37:48.154678Z",
     "iopub.status.busy": "2023-06-08T14:37:48.150980Z",
     "iopub.status.idle": "2023-06-08T14:37:57.270961Z",
     "shell.execute_reply": "2023-06-08T14:37:57.269726Z"
    },
    "papermill": {
     "duration": 9.146884,
     "end_time": "2023-06-08T14:37:57.273766",
     "exception": false,
     "start_time": "2023-06-08T14:37:48.126882",
     "status": "completed"
    },
    "tags": []
   },
   "outputs": [],
   "source": [
    "for i in data_clean:\n",
    "  # Рассчитаем первый и третий квантили поля Site EUI или возьмем значения из вывода метода describe\n",
    "  first_quartile = data_clean[i].describe()['25%']\n",
    "  third_quartile = data_clean[i].describe()['75%']\n",
    "\n",
    "  # Рассчитаем IQR как разницу между третьим и первым квантилями\n",
    "  iqr = third_quartile - first_quartile\n",
    "\n",
    "  # Создадим условие на столбец Site EUI для отбора НЕ выбросов, воспользовавшись выражением выше\n",
    "  condition = (data_clean[i] > (first_quartile - 3 * iqr)) & (data_clean[i] < (third_quartile + 3 * iqr))\n",
    "\n",
    "  # Применим созданное условие к нашим данным, отфильтровав тем самым строки, не являющиеся выбросами\n",
    "  data_drop = data_clean[condition]\n",
    "\n",
    "\n"
   ]
  },
  {
   "cell_type": "markdown",
   "id": "7ed7898b",
   "metadata": {
    "papermill": {
     "duration": 0.018545,
     "end_time": "2023-06-08T14:37:57.314040",
     "exception": false,
     "start_time": "2023-06-08T14:37:57.295495",
     "status": "completed"
    },
    "tags": []
   },
   "source": [
    "Все выбросы успешно удалены, посмотрим теперь на размер нашего датасета"
   ]
  },
  {
   "cell_type": "code",
   "execution_count": 25,
   "id": "038bbe59",
   "metadata": {
    "execution": {
     "iopub.execute_input": "2023-06-08T14:37:57.354058Z",
     "iopub.status.busy": "2023-06-08T14:37:57.353641Z",
     "iopub.status.idle": "2023-06-08T14:37:57.360929Z",
     "shell.execute_reply": "2023-06-08T14:37:57.359737Z"
    },
    "papermill": {
     "duration": 0.030154,
     "end_time": "2023-06-08T14:37:57.363248",
     "exception": false,
     "start_time": "2023-06-08T14:37:57.333094",
     "status": "completed"
    },
    "tags": []
   },
   "outputs": [
    {
     "data": {
      "text/plain": [
       "(1113, 1199)"
      ]
     },
     "execution_count": 25,
     "metadata": {},
     "output_type": "execute_result"
    }
   ],
   "source": [
    "data_drop.shape"
   ]
  },
  {
   "cell_type": "markdown",
   "id": "451d6d6d",
   "metadata": {
    "papermill": {
     "duration": 0.018275,
     "end_time": "2023-06-08T14:37:57.400263",
     "exception": false,
     "start_time": "2023-06-08T14:37:57.381988",
     "status": "completed"
    },
    "tags": []
   },
   "source": [
    "### Заполнение пропусков"
   ]
  },
  {
   "cell_type": "markdown",
   "id": "e9905f68",
   "metadata": {
    "papermill": {
     "duration": 0.0184,
     "end_time": "2023-06-08T14:37:57.437478",
     "exception": false,
     "start_time": "2023-06-08T14:37:57.419078",
     "status": "completed"
    },
    "tags": []
   },
   "source": [
    "Перед тем ка заполнить пропуски нужно удалить значения, в которых большинство значений неизвестны\n",
    "\n",
    "Так как наших столбцов много, мы рассмотрим колонки в порядке убывания количества пропусков"
   ]
  },
  {
   "cell_type": "code",
   "execution_count": 26,
   "id": "e3a4ab64",
   "metadata": {
    "execution": {
     "iopub.execute_input": "2023-06-08T14:37:57.477417Z",
     "iopub.status.busy": "2023-06-08T14:37:57.476978Z",
     "iopub.status.idle": "2023-06-08T14:37:57.490616Z",
     "shell.execute_reply": "2023-06-08T14:37:57.489207Z"
    },
    "papermill": {
     "duration": 0.036533,
     "end_time": "2023-06-08T14:37:57.493326",
     "exception": false,
     "start_time": "2023-06-08T14:37:57.456793",
     "status": "completed"
    },
    "tags": []
   },
   "outputs": [
    {
     "name": "stdout",
     "output_type": "stream",
     "text": [
      "[624, 624, 550, 523, 514, 508, 507, 507, 497, 497, 494, 492, 482, 459, 459, 454, 452, 452, 451, 449]\n"
     ]
    }
   ],
   "source": [
    "nan_sr = single_df.isna().sum()\n",
    "max_nan = sorted(nan_sr, reverse=True)\n",
    "print(max_nan[:20])"
   ]
  },
  {
   "cell_type": "markdown",
   "id": "960c8a62",
   "metadata": {
    "papermill": {
     "duration": 0.01908,
     "end_time": "2023-06-08T14:37:57.531230",
     "exception": false,
     "start_time": "2023-06-08T14:37:57.512150",
     "status": "completed"
    },
    "tags": []
   },
   "source": [
    "Найдем название колонок с критическими значениями"
   ]
  },
  {
   "cell_type": "code",
   "execution_count": 27,
   "id": "907a399f",
   "metadata": {
    "execution": {
     "iopub.execute_input": "2023-06-08T14:37:57.571187Z",
     "iopub.status.busy": "2023-06-08T14:37:57.570270Z",
     "iopub.status.idle": "2023-06-08T14:37:57.578188Z",
     "shell.execute_reply": "2023-06-08T14:37:57.577107Z"
    },
    "papermill": {
     "duration": 0.030293,
     "end_time": "2023-06-08T14:37:57.580470",
     "exception": false,
     "start_time": "2023-06-08T14:37:57.550177",
     "status": "completed"
    },
    "tags": []
   },
   "outputs": [
    {
     "name": "stdout",
     "output_type": "stream",
     "text": [
      "Q99829 : 624\n",
      "QALPQVR : 624\n"
     ]
    },
    {
     "name": "stderr",
     "output_type": "stream",
     "text": [
      "/tmp/ipykernel_20/3947779320.py:1: FutureWarning: iteritems is deprecated and will be removed in a future version. Use .items instead.\n",
      "  for i,v in nan_sr.iteritems():\n"
     ]
    }
   ],
   "source": [
    "for i,v in nan_sr.iteritems():\n",
    "  if v >= 600:\n",
    "    print(f\"{i} : {v}\")"
   ]
  },
  {
   "cell_type": "markdown",
   "id": "f45bd636",
   "metadata": {
    "papermill": {
     "duration": 0.018378,
     "end_time": "2023-06-08T14:37:57.617809",
     "exception": false,
     "start_time": "2023-06-08T14:37:57.599431",
     "status": "completed"
    },
    "tags": []
   },
   "source": [
    "Удалим эти колонки"
   ]
  },
  {
   "cell_type": "code",
   "execution_count": 28,
   "id": "d3d98cdf",
   "metadata": {
    "execution": {
     "iopub.execute_input": "2023-06-08T14:37:57.657668Z",
     "iopub.status.busy": "2023-06-08T14:37:57.656923Z",
     "iopub.status.idle": "2023-06-08T14:37:57.669257Z",
     "shell.execute_reply": "2023-06-08T14:37:57.667906Z"
    },
    "papermill": {
     "duration": 0.035683,
     "end_time": "2023-06-08T14:37:57.672228",
     "exception": false,
     "start_time": "2023-06-08T14:37:57.636545",
     "status": "completed"
    },
    "tags": []
   },
   "outputs": [],
   "source": [
    "df_drop = data_drop.drop(['Q99829','QALPQVR'], axis=1)"
   ]
  },
  {
   "cell_type": "markdown",
   "id": "adc2673b",
   "metadata": {
    "papermill": {
     "duration": 0.018889,
     "end_time": "2023-06-08T14:37:57.710486",
     "exception": false,
     "start_time": "2023-06-08T14:37:57.691597",
     "status": "completed"
    },
    "tags": []
   },
   "source": [
    "Путем экспериментов решено было заполнить пропуски средним значением с шумом\n",
    "\n",
    "Сделаем это"
   ]
  },
  {
   "cell_type": "code",
   "execution_count": 29,
   "id": "1e780262",
   "metadata": {
    "execution": {
     "iopub.execute_input": "2023-06-08T14:37:57.750817Z",
     "iopub.status.busy": "2023-06-08T14:37:57.749687Z",
     "iopub.status.idle": "2023-06-08T14:37:58.774845Z",
     "shell.execute_reply": "2023-06-08T14:37:58.773737Z"
    },
    "papermill": {
     "duration": 1.048082,
     "end_time": "2023-06-08T14:37:58.777579",
     "exception": false,
     "start_time": "2023-06-08T14:37:57.729497",
     "status": "completed"
    },
    "tags": []
   },
   "outputs": [],
   "source": [
    "def fill_with_noise(value, noise_level):\n",
    "  noise = np.random.normal(scale=noise_level)\n",
    "  return value + noise\n",
    "# Установка уровня шума\n",
    "noise_level = 0.1\n",
    "for col in df_drop.columns:\n",
    "  is_missing = df_drop[col].isnull()\n",
    "  num_missing = is_missing.sum()\n",
    "  if num_missing > 0:\n",
    "    mean = df_drop[col].mean()\n",
    "    std = df_drop[col].std()\n",
    "    fill_values = np.random.normal(loc=mean, scale=std, size=num_missing)\n",
    "    df_drop.loc[is_missing, col] = [fill_with_noise(value, noise_level) for value in fill_values]"
   ]
  },
  {
   "cell_type": "markdown",
   "id": "a7ac1699",
   "metadata": {
    "papermill": {
     "duration": 0.019188,
     "end_time": "2023-06-08T14:37:58.816178",
     "exception": false,
     "start_time": "2023-06-08T14:37:58.796990",
     "status": "completed"
    },
    "tags": []
   },
   "source": [
    "С пропусками мы закончили, теперь вернем нашу колонку \"visit_id\" и посмотрим на наш датасет"
   ]
  },
  {
   "cell_type": "code",
   "execution_count": 30,
   "id": "d40eaad8",
   "metadata": {
    "execution": {
     "iopub.execute_input": "2023-06-08T14:37:58.856164Z",
     "iopub.status.busy": "2023-06-08T14:37:58.855703Z",
     "iopub.status.idle": "2023-06-08T14:37:58.889936Z",
     "shell.execute_reply": "2023-06-08T14:37:58.888674Z"
    },
    "papermill": {
     "duration": 0.057747,
     "end_time": "2023-06-08T14:37:58.892719",
     "exception": false,
     "start_time": "2023-06-08T14:37:58.834972",
     "status": "completed"
    },
    "tags": []
   },
   "outputs": [
    {
     "data": {
      "text/html": [
       "<div>\n",
       "<style scoped>\n",
       "    .dataframe tbody tr th:only-of-type {\n",
       "        vertical-align: middle;\n",
       "    }\n",
       "\n",
       "    .dataframe tbody tr th {\n",
       "        vertical-align: top;\n",
       "    }\n",
       "\n",
       "    .dataframe thead th {\n",
       "        text-align: right;\n",
       "    }\n",
       "</style>\n",
       "<table border=\"1\" class=\"dataframe\">\n",
       "  <thead>\n",
       "    <tr style=\"text-align: right;\">\n",
       "      <th></th>\n",
       "      <th>O00391</th>\n",
       "      <th>O00533</th>\n",
       "      <th>O00584</th>\n",
       "      <th>O14498</th>\n",
       "      <th>O14773</th>\n",
       "      <th>O14791</th>\n",
       "      <th>O15240</th>\n",
       "      <th>O15394</th>\n",
       "      <th>O43505</th>\n",
       "      <th>O60888</th>\n",
       "      <th>...</th>\n",
       "      <th>YVNKEIQNAVNGVK</th>\n",
       "      <th>YWGVASFLQK</th>\n",
       "      <th>YYC(UniMod_4)FQGNQFLR</th>\n",
       "      <th>YYTYLIMNK</th>\n",
       "      <th>YYWGGQYTWDMAK</th>\n",
       "      <th>visit_month</th>\n",
       "      <th>peptide_sum</th>\n",
       "      <th>protein_sum</th>\n",
       "      <th>protein_to_peptide_ratio</th>\n",
       "      <th>visit_id</th>\n",
       "    </tr>\n",
       "  </thead>\n",
       "  <tbody>\n",
       "    <tr>\n",
       "      <th>0</th>\n",
       "      <td>9104.27</td>\n",
       "      <td>402321.0</td>\n",
       "      <td>26615.649666</td>\n",
       "      <td>24745.614877</td>\n",
       "      <td>7150.570000</td>\n",
       "      <td>2497.840000</td>\n",
       "      <td>83002.9</td>\n",
       "      <td>15113.6</td>\n",
       "      <td>167327.0</td>\n",
       "      <td>129048.0</td>\n",
       "      <td>...</td>\n",
       "      <td>76705.7</td>\n",
       "      <td>104260.0</td>\n",
       "      <td>530223.000000</td>\n",
       "      <td>39653.507812</td>\n",
       "      <td>7207.30</td>\n",
       "      <td>0.0</td>\n",
       "      <td>4.713356e+08</td>\n",
       "      <td>4.713352e+08</td>\n",
       "      <td>0.999999</td>\n",
       "      <td>10053_0</td>\n",
       "    </tr>\n",
       "    <tr>\n",
       "      <th>1</th>\n",
       "      <td>10464.20</td>\n",
       "      <td>435586.0</td>\n",
       "      <td>30869.892769</td>\n",
       "      <td>47442.902819</td>\n",
       "      <td>23729.826687</td>\n",
       "      <td>4956.764501</td>\n",
       "      <td>197117.0</td>\n",
       "      <td>15099.1</td>\n",
       "      <td>164268.0</td>\n",
       "      <td>108114.0</td>\n",
       "      <td>...</td>\n",
       "      <td>92078.1</td>\n",
       "      <td>123254.0</td>\n",
       "      <td>453883.000000</td>\n",
       "      <td>49281.900000</td>\n",
       "      <td>25332.80</td>\n",
       "      <td>12.0</td>\n",
       "      <td>4.666370e+08</td>\n",
       "      <td>4.666371e+08</td>\n",
       "      <td>1.000000</td>\n",
       "      <td>10053_12</td>\n",
       "    </tr>\n",
       "    <tr>\n",
       "      <th>2</th>\n",
       "      <td>13235.70</td>\n",
       "      <td>507386.0</td>\n",
       "      <td>7126.960000</td>\n",
       "      <td>24525.700000</td>\n",
       "      <td>15452.276985</td>\n",
       "      <td>2372.710000</td>\n",
       "      <td>126506.0</td>\n",
       "      <td>16289.6</td>\n",
       "      <td>168107.0</td>\n",
       "      <td>163776.0</td>\n",
       "      <td>...</td>\n",
       "      <td>63203.6</td>\n",
       "      <td>128336.0</td>\n",
       "      <td>447505.000000</td>\n",
       "      <td>52389.100000</td>\n",
       "      <td>21235.70</td>\n",
       "      <td>18.0</td>\n",
       "      <td>5.220732e+08</td>\n",
       "      <td>5.220732e+08</td>\n",
       "      <td>1.000000</td>\n",
       "      <td>10053_18</td>\n",
       "    </tr>\n",
       "    <tr>\n",
       "      <th>3</th>\n",
       "      <td>12600.20</td>\n",
       "      <td>494581.0</td>\n",
       "      <td>9165.060000</td>\n",
       "      <td>27193.500000</td>\n",
       "      <td>22506.100000</td>\n",
       "      <td>6015.900000</td>\n",
       "      <td>156313.0</td>\n",
       "      <td>54546.4</td>\n",
       "      <td>204013.0</td>\n",
       "      <td>56725.0</td>\n",
       "      <td>...</td>\n",
       "      <td>89822.1</td>\n",
       "      <td>129964.0</td>\n",
       "      <td>552232.000000</td>\n",
       "      <td>65657.800000</td>\n",
       "      <td>9876.98</td>\n",
       "      <td>12.0</td>\n",
       "      <td>6.515605e+08</td>\n",
       "      <td>6.515605e+08</td>\n",
       "      <td>1.000000</td>\n",
       "      <td>10138_12</td>\n",
       "    </tr>\n",
       "    <tr>\n",
       "      <th>4</th>\n",
       "      <td>12003.20</td>\n",
       "      <td>522138.0</td>\n",
       "      <td>4498.510000</td>\n",
       "      <td>17189.800000</td>\n",
       "      <td>29112.400000</td>\n",
       "      <td>2665.150000</td>\n",
       "      <td>151169.0</td>\n",
       "      <td>52338.1</td>\n",
       "      <td>240892.0</td>\n",
       "      <td>85767.1</td>\n",
       "      <td>...</td>\n",
       "      <td>80919.3</td>\n",
       "      <td>111799.0</td>\n",
       "      <td>753896.230213</td>\n",
       "      <td>56977.600000</td>\n",
       "      <td>4903.09</td>\n",
       "      <td>24.0</td>\n",
       "      <td>6.720872e+08</td>\n",
       "      <td>6.720870e+08</td>\n",
       "      <td>1.000000</td>\n",
       "      <td>10138_24</td>\n",
       "    </tr>\n",
       "  </tbody>\n",
       "</table>\n",
       "<p>5 rows × 1198 columns</p>\n",
       "</div>"
      ],
      "text/plain": [
       "     O00391    O00533        O00584        O14498        O14773       O14791  \\\n",
       "0   9104.27  402321.0  26615.649666  24745.614877   7150.570000  2497.840000   \n",
       "1  10464.20  435586.0  30869.892769  47442.902819  23729.826687  4956.764501   \n",
       "2  13235.70  507386.0   7126.960000  24525.700000  15452.276985  2372.710000   \n",
       "3  12600.20  494581.0   9165.060000  27193.500000  22506.100000  6015.900000   \n",
       "4  12003.20  522138.0   4498.510000  17189.800000  29112.400000  2665.150000   \n",
       "\n",
       "     O15240   O15394    O43505    O60888  ...  YVNKEIQNAVNGVK  YWGVASFLQK  \\\n",
       "0   83002.9  15113.6  167327.0  129048.0  ...         76705.7    104260.0   \n",
       "1  197117.0  15099.1  164268.0  108114.0  ...         92078.1    123254.0   \n",
       "2  126506.0  16289.6  168107.0  163776.0  ...         63203.6    128336.0   \n",
       "3  156313.0  54546.4  204013.0   56725.0  ...         89822.1    129964.0   \n",
       "4  151169.0  52338.1  240892.0   85767.1  ...         80919.3    111799.0   \n",
       "\n",
       "   YYC(UniMod_4)FQGNQFLR     YYTYLIMNK  YYWGGQYTWDMAK  visit_month  \\\n",
       "0          530223.000000  39653.507812        7207.30          0.0   \n",
       "1          453883.000000  49281.900000       25332.80         12.0   \n",
       "2          447505.000000  52389.100000       21235.70         18.0   \n",
       "3          552232.000000  65657.800000        9876.98         12.0   \n",
       "4          753896.230213  56977.600000        4903.09         24.0   \n",
       "\n",
       "    peptide_sum   protein_sum  protein_to_peptide_ratio  visit_id  \n",
       "0  4.713356e+08  4.713352e+08                  0.999999   10053_0  \n",
       "1  4.666370e+08  4.666371e+08                  1.000000  10053_12  \n",
       "2  5.220732e+08  5.220732e+08                  1.000000  10053_18  \n",
       "3  6.515605e+08  6.515605e+08                  1.000000  10138_12  \n",
       "4  6.720872e+08  6.720870e+08                  1.000000  10138_24  \n",
       "\n",
       "[5 rows x 1198 columns]"
      ]
     },
     "execution_count": 30,
     "metadata": {},
     "output_type": "execute_result"
    }
   ],
   "source": [
    "train_df = df_drop.join(visit_id, rsuffix='_visit_id')\n",
    "train_df.head()"
   ]
  },
  {
   "cell_type": "markdown",
   "id": "22ec708a",
   "metadata": {
    "papermill": {
     "duration": 0.018655,
     "end_time": "2023-06-08T14:37:58.931252",
     "exception": false,
     "start_time": "2023-06-08T14:37:58.912597",
     "status": "completed"
    },
    "tags": []
   },
   "source": [
    "# Training and submission"
   ]
  },
  {
   "cell_type": "markdown",
   "id": "80717bf5",
   "metadata": {
    "papermill": {
     "duration": 0.018759,
     "end_time": "2023-06-08T14:37:58.970172",
     "exception": false,
     "start_time": "2023-06-08T14:37:58.951413",
     "status": "completed"
    },
    "tags": []
   },
   "source": [
    "## CatBost"
   ]
  },
  {
   "cell_type": "markdown",
   "id": "4b38339e",
   "metadata": {
    "papermill": {
     "duration": 0.019186,
     "end_time": "2023-06-08T14:37:59.008617",
     "exception": false,
     "start_time": "2023-06-08T14:37:58.989431",
     "status": "completed"
    },
    "tags": []
   },
   "source": [
    "Теперь нам осталось обучить модель на наших данных и предсказать метки по тестовому набору\n",
    "\n",
    "Что бы наша модель хорошо и быстро работала, мы применим PCA разложение, после чего отмасштабируем значения методом MinMaxScaler и начнем предсказывать значения с помощью модели CatBost"
   ]
  },
  {
   "cell_type": "code",
   "execution_count": 31,
   "id": "4139d645",
   "metadata": {
    "execution": {
     "iopub.execute_input": "2023-06-08T14:37:59.049105Z",
     "iopub.status.busy": "2023-06-08T14:37:59.048632Z",
     "iopub.status.idle": "2023-06-08T14:37:59.054827Z",
     "shell.execute_reply": "2023-06-08T14:37:59.053612Z"
    },
    "papermill": {
     "duration": 0.029461,
     "end_time": "2023-06-08T14:37:59.057364",
     "exception": false,
     "start_time": "2023-06-08T14:37:59.027903",
     "status": "completed"
    },
    "tags": []
   },
   "outputs": [],
   "source": [
    "FEATURES = [i for i in train_df.columns if i not in [\"visit_id\"]]"
   ]
  },
  {
   "cell_type": "code",
   "execution_count": 32,
   "id": "85f7c883",
   "metadata": {
    "execution": {
     "iopub.execute_input": "2023-06-08T14:37:59.099005Z",
     "iopub.status.busy": "2023-06-08T14:37:59.098555Z",
     "iopub.status.idle": "2023-06-08T14:37:59.123217Z",
     "shell.execute_reply": "2023-06-08T14:37:59.121947Z"
    },
    "papermill": {
     "duration": 0.048791,
     "end_time": "2023-06-08T14:37:59.125946",
     "exception": false,
     "start_time": "2023-06-08T14:37:59.077155",
     "status": "completed"
    },
    "tags": []
   },
   "outputs": [],
   "source": [
    "import amp_pd_peptide_310\n",
    "env = amp_pd_peptide_310.make_env()   # initialize the environment\n",
    "iter_test = env.iter_test()  "
   ]
  },
  {
   "cell_type": "code",
   "execution_count": 33,
   "id": "d6531201",
   "metadata": {
    "execution": {
     "iopub.execute_input": "2023-06-08T14:37:59.168546Z",
     "iopub.status.busy": "2023-06-08T14:37:59.167508Z",
     "iopub.status.idle": "2023-06-08T14:37:59.182398Z",
     "shell.execute_reply": "2023-06-08T14:37:59.181444Z"
    },
    "papermill": {
     "duration": 0.03927,
     "end_time": "2023-06-08T14:37:59.184926",
     "exception": false,
     "start_time": "2023-06-08T14:37:59.145656",
     "status": "completed"
    },
    "tags": []
   },
   "outputs": [],
   "source": [
    "def get_predictions(test_df, train_df):\n",
    "    \n",
    "    # Создадим необходимые переменные\n",
    "    target = [\"updrs_1\", \"updrs_2\", \"updrs_3\", \"updrs_4\"]\n",
    "    temp = test_df[FEATURES].copy()\n",
    "    new_test_df = test_df.copy()\n",
    "    pred = test_df.copy()\n",
    "    len_test = test_df.shape[0]\n",
    "    \n",
    "    # Используем цикл для последовательного предсказания каждой метки\n",
    "    for label in target:\n",
    "        \n",
    "        print(label) # для отслеживания итерации\n",
    "        \n",
    "        dataset_df = train_df.merge(train_clinical[['visit_id', label]], on=['visit_id'], how='left') # добавляем таргет\n",
    "        dataset_drop_label = dataset_df.dropna(subset=[label]) # удаляем пропуски в колонке таргета\n",
    "        \n",
    "        # Для удоства и сокращения кода мы объединим данные test и train, что бы вместе их форматировать\n",
    "        combined_df = pd.concat([dataset_drop_label, test_df], ignore_index=True)\n",
    "        combined_df = combined_df.drop('visit_id', axis=1)\n",
    "        # Удалим таргетную колонку, что бы произвести PCA разложение, а также удалим visit_month\n",
    "        # Так ка наше предсказание временное, зависимость от месяца очень важна, поэтому мы не будем\n",
    "        # редактировать эту колонку\n",
    "        combined_df_d = combined_df.drop(columns=[label, 'visit_month'])\n",
    "        \n",
    "        \n",
    "        scaler_df = combined_df_d.copy()\n",
    "        scaler = MinMaxScaler()\n",
    "        scale = scaler.fit_transform(scaler_df)\n",
    "        scale = pd.DataFrame(scale)\n",
    "        # PCA разложение\n",
    "        X_pca = scale.copy()\n",
    "        pca = PCA(n_components=400)\n",
    "        pca.fit(X_pca)\n",
    "        Y_pca = pca.fit_transform(X_pca)\n",
    "        Y_pca_df = pd.DataFrame(Y_pca)\n",
    "        Y_pca_df['visit_month'] = combined_df['visit_month']\n",
    "        \n",
    "        # Maсштабирование\n",
    "#         scaler = MinMaxScaler()\n",
    "#         Y_pca_df.columns = Y_pca_df.columns.astype(str)\n",
    "#         Y_pca_df = scaler.fit_transform(Y_pca_df)\n",
    "#         Y_pca_df = pd.DataFrame(Y_pca_df)\n",
    "        \n",
    "        # Разделяем test и train\n",
    "        train_Y_pca = Y_pca_df.iloc[:-1 * len_test]\n",
    "        test_df_extracted = Y_pca_df.tail(len_test)\n",
    "        \n",
    "        # Разделяем train для обучения\n",
    "        X = train_Y_pca\n",
    "        y = dataset_drop_label[label]\n",
    "        \n",
    "        # Обучаем модель\n",
    "        CB_model = cb.CatBoostRegressor(verbose=0)\n",
    "        CB_model.fit(X, y)\n",
    "        \n",
    "        # Предсказываем и записываем значения таргета\n",
    "        predictions = CB_model.predict(test_df_extracted)\n",
    "        pred['result_' + str(label)] = predictions\n",
    "        new_test_df['result_' + str(label)] = pred['result_' + str(label)]\n",
    "\n",
    "    # Составляем submission фаил\n",
    "    result = pd.DataFrame()\n",
    "    for m in [0, 6, 12, 24]:\n",
    "        for u in [1, 2, 3, 4]:\n",
    "            temp = new_test_df[[\"visit_id\", \"result_updrs_\" + str(u)]].copy()\n",
    "            temp[\"prediction_id\"] = temp[\"visit_id\"] + \"_updrs_\" + str(u) + \"_plus_\" + str(m) + \"_months\"\n",
    "            temp[\"rating\"] = temp[\"result_updrs_\" + str(u)]\n",
    "            temp = temp[['prediction_id', 'rating']]\n",
    "\n",
    "            result = pd.concat([result, temp])\n",
    "    result = result.drop_duplicates(subset=['prediction_id'])\n",
    "    return result"
   ]
  },
  {
   "cell_type": "code",
   "execution_count": 34,
   "id": "1d423e18",
   "metadata": {
    "execution": {
     "iopub.execute_input": "2023-06-08T14:37:59.227228Z",
     "iopub.status.busy": "2023-06-08T14:37:59.226786Z",
     "iopub.status.idle": "2023-06-08T14:45:38.473262Z",
     "shell.execute_reply": "2023-06-08T14:45:38.471880Z"
    },
    "papermill": {
     "duration": 459.271838,
     "end_time": "2023-06-08T14:45:38.476311",
     "exception": false,
     "start_time": "2023-06-08T14:37:59.204473",
     "status": "completed"
    },
    "tags": []
   },
   "outputs": [
    {
     "name": "stdout",
     "output_type": "stream",
     "text": [
      "This version of the API is not optimized and should not be used to estimate the runtime of your code on the hidden test set.\n",
      "updrs_1\n",
      "updrs_2\n",
      "updrs_3\n",
      "updrs_4\n",
      "updrs_1\n",
      "updrs_2\n",
      "updrs_3\n",
      "updrs_4\n"
     ]
    }
   ],
   "source": [
    "for (test, test_peptides, test_proteins, sample_submission) in iter_test:\n",
    "    \n",
    "    #  Т.к. нам предстоит предсказание на 6,12,24 месяца вперед, создадим небольшой алгоритм,\n",
    "    #  позволяющий нам записать эти месяца\n",
    "    visit_list = [(i % 4) * 6 if i % 4 != 3 else 24 for i in range(len(test.visit_month))]\n",
    "    test_month = test.copy()\n",
    "    test_month.visit_month = visit_list\n",
    "    \n",
    "    # Соберем нашу тестовую выборку в 1 датасет\n",
    "    pp_df = prepare_dataset(test_proteins, test_peptides)\n",
    "    test_proteins = test_proteins.pivot(index=['visit_id', 'visit_month', 'patient_id'], \n",
    "                  columns='UniProt', values='NPX').reset_index().rename_axis(None, axis=1).drop(columns=['visit_month', 'patient_id'])\n",
    "    merged_df = test_month.merge(test_proteins, how='left', on='visit_id')\n",
    "    test_df = test_month.merge(pp_df, how='left', on='visit_id')\n",
    "    \n",
    "    # Добавляет пропущеные колонки\n",
    "    # Нам это нужно, что бы test и train совпадали\n",
    "    for col in FEATURES_1:\n",
    "        if col not in test_df.columns:\n",
    "            test_df[col] = 0\n",
    "    test_df = test_df[['visit_id'] + FEATURES_1]\n",
    "    \n",
    "    df = test_df.copy()\n",
    "    #     test['is_on_medication'] = test.apply(lambda row: 1 if row['upd23b_clinical_state_on_medication'] == 'On' else 0, axis=1)\n",
    "    #     test_df = test_df.merge(test[['visit_id', 'is_on_medication']], how='left', left_on='visit_id', right_on='visit_id')\n",
    "    df['peptide_sum'] = test_df.iloc[:, 1:228].sum(axis=1)\n",
    "    df['protein_sum'] = test_df.iloc[:, 228:1196].sum(axis=1)\n",
    "    df['protein_to_peptide_ratio'] = df['protein_sum'] / df['peptide_sum']\n",
    "    \n",
    "    df = df[['visit_id','peptide_sum', 'protein_to_peptide_ratio','protein_sum']]\n",
    "    test_df = test_df.merge(df, how='left', on='visit_id')\n",
    "    \n",
    "    # Заполним пропуски также как в train\n",
    "    test_clean = test_df.drop('visit_id', axis=1)\n",
    "    visit_id_test = test_df.visit_id\n",
    "    \n",
    "    def fill_with_noise(value, noise_level):\n",
    "        noise = np.random.normal(scale=noise_level)\n",
    "        return value + noise\n",
    "    # Установка уровня шума\n",
    "    noise_level = 0.1\n",
    "    for col in test_clean.columns:\n",
    "        is_missing = test_clean[col].isnull()\n",
    "        num_missing = is_missing.sum()\n",
    "        if num_missing > 0:\n",
    "            mean = test_clean[col].mean()\n",
    "            std = test_clean[col].std()\n",
    "            fill_values = np.random.normal(loc=mean, scale=std, size=num_missing)\n",
    "            test_clean.loc[is_missing, col] = [fill_with_noise(value, noise_level) for value in fill_values]\n",
    "            \n",
    "    \n",
    "    test_df = test_clean\n",
    "    test_df = test_df.join(visit_id_test, rsuffix='_visit_id')\n",
    "    test_df = test_df.drop(['Q99829','QALPQVR'], axis=1)\n",
    "    # Предсказываем значения и составляем фаил submission\n",
    "    sample_prediction_df = get_predictions(test_df, train_df)\n",
    "    env.predict(sample_prediction_df)"
   ]
  },
  {
   "cell_type": "markdown",
   "id": "3057f87f",
   "metadata": {
    "papermill": {
     "duration": 0.020453,
     "end_time": "2023-06-08T14:45:38.518981",
     "exception": false,
     "start_time": "2023-06-08T14:45:38.498528",
     "status": "completed"
    },
    "tags": []
   },
   "source": [
    "Посмотрим на наш выходной фаил"
   ]
  },
  {
   "cell_type": "code",
   "execution_count": 35,
   "id": "671acbd0",
   "metadata": {
    "execution": {
     "iopub.execute_input": "2023-06-08T14:45:38.563670Z",
     "iopub.status.busy": "2023-06-08T14:45:38.563217Z",
     "iopub.status.idle": "2023-06-08T14:45:38.575398Z",
     "shell.execute_reply": "2023-06-08T14:45:38.574028Z"
    },
    "papermill": {
     "duration": 0.037049,
     "end_time": "2023-06-08T14:45:38.577917",
     "exception": false,
     "start_time": "2023-06-08T14:45:38.540868",
     "status": "completed"
    },
    "tags": []
   },
   "outputs": [
    {
     "data": {
      "text/html": [
       "<div>\n",
       "<style scoped>\n",
       "    .dataframe tbody tr th:only-of-type {\n",
       "        vertical-align: middle;\n",
       "    }\n",
       "\n",
       "    .dataframe tbody tr th {\n",
       "        vertical-align: top;\n",
       "    }\n",
       "\n",
       "    .dataframe thead th {\n",
       "        text-align: right;\n",
       "    }\n",
       "</style>\n",
       "<table border=\"1\" class=\"dataframe\">\n",
       "  <thead>\n",
       "    <tr style=\"text-align: right;\">\n",
       "      <th></th>\n",
       "      <th>prediction_id</th>\n",
       "      <th>rating</th>\n",
       "    </tr>\n",
       "  </thead>\n",
       "  <tbody>\n",
       "    <tr>\n",
       "      <th>0</th>\n",
       "      <td>3342_6_updrs_1_plus_0_months</td>\n",
       "      <td>3.945391</td>\n",
       "    </tr>\n",
       "    <tr>\n",
       "      <th>16</th>\n",
       "      <td>50423_6_updrs_1_plus_0_months</td>\n",
       "      <td>4.631356</td>\n",
       "    </tr>\n",
       "    <tr>\n",
       "      <th>0</th>\n",
       "      <td>3342_6_updrs_2_plus_0_months</td>\n",
       "      <td>3.133658</td>\n",
       "    </tr>\n",
       "    <tr>\n",
       "      <th>16</th>\n",
       "      <td>50423_6_updrs_2_plus_0_months</td>\n",
       "      <td>4.429210</td>\n",
       "    </tr>\n",
       "    <tr>\n",
       "      <th>0</th>\n",
       "      <td>3342_6_updrs_3_plus_0_months</td>\n",
       "      <td>12.119353</td>\n",
       "    </tr>\n",
       "  </tbody>\n",
       "</table>\n",
       "</div>"
      ],
      "text/plain": [
       "                    prediction_id     rating\n",
       "0    3342_6_updrs_1_plus_0_months   3.945391\n",
       "16  50423_6_updrs_1_plus_0_months   4.631356\n",
       "0    3342_6_updrs_2_plus_0_months   3.133658\n",
       "16  50423_6_updrs_2_plus_0_months   4.429210\n",
       "0    3342_6_updrs_3_plus_0_months  12.119353"
      ]
     },
     "execution_count": 35,
     "metadata": {},
     "output_type": "execute_result"
    }
   ],
   "source": [
    "sample_prediction_df.head() "
   ]
  },
  {
   "cell_type": "code",
   "execution_count": 36,
   "id": "b13c5af4",
   "metadata": {
    "execution": {
     "iopub.execute_input": "2023-06-08T14:45:38.622611Z",
     "iopub.status.busy": "2023-06-08T14:45:38.621241Z",
     "iopub.status.idle": "2023-06-08T14:45:38.628691Z",
     "shell.execute_reply": "2023-06-08T14:45:38.627591Z"
    },
    "papermill": {
     "duration": 0.032555,
     "end_time": "2023-06-08T14:45:38.631532",
     "exception": false,
     "start_time": "2023-06-08T14:45:38.598977",
     "status": "completed"
    },
    "tags": []
   },
   "outputs": [],
   "source": [
    "sample_prediction_df.to_csv('sample_prediction_df')"
   ]
  },
  {
   "cell_type": "markdown",
   "id": "c4f4d87c",
   "metadata": {
    "papermill": {
     "duration": 0.020524,
     "end_time": "2023-06-08T14:45:38.672744",
     "exception": false,
     "start_time": "2023-06-08T14:45:38.652220",
     "status": "completed"
    },
    "tags": []
   },
   "source": [
    "# Вывод\n",
    "\n",
    "По итогам моих исследований и практического опыта в области анализа данных и машинного обучения, я смог углубить свои знания о моделях для регрессии. Изучение различных моделей помогло мне понять их особенности, преимущества и ограничения. Я получил ценный опыт в выборе и настройке моделей, чтобы достичь наилучших результатов и осознал важность правильного выбора оптимизаторов и настройки их гиперпараметров.\n",
    "\n",
    "Опыт работы с EDA был очень полезным. Я научился обнаруживать особенности данных, выявлять закономерности и обрабатывать пропущенные значения или выбросы. Этот этап предварительного анализа данных помогает построить более надежные модели и сделать более обоснованные выводы. Так-же было очень интересно найти подход к многопризнаковым моделям.\n",
    "\n",
    "Участие в денежном соревновании принесло мне ценный опыт и позволило ощутить настоящую конкуренцию. Я столкнулся с высоким уровнем соперников, что показало мне, насколько важно постоянно совершенствоваться и изучать новые методы и подходы. Также я ознакомился с нотбуками на платформе Kaggle и изучил множество других решений. Это позволило мне получить представление о различных подходах к анализу данных и применению моделей.\n",
    "\n",
    "В целом, мой опыт показал мне, что в области анализа данных и машинного обучения знания безграничны, и я осознал, что у меня еще многое предстоит изучить. Однако, я ощутил прогресс и уверенность в своих способностях, и я готов продолжать свое обучение и развитие в этой захватывающей области."
   ]
  }
 ],
 "metadata": {
  "kernelspec": {
   "display_name": "Python 3",
   "language": "python",
   "name": "python3"
  },
  "language_info": {
   "codemirror_mode": {
    "name": "ipython",
    "version": 3
   },
   "file_extension": ".py",
   "mimetype": "text/x-python",
   "name": "python",
   "nbconvert_exporter": "python",
   "pygments_lexer": "ipython3",
   "version": "3.10.10"
  },
  "papermill": {
   "default_parameters": {},
   "duration": 497.892311,
   "end_time": "2023-06-08T14:45:40.321213",
   "environment_variables": {},
   "exception": null,
   "input_path": "__notebook__.ipynb",
   "output_path": "__notebook__.ipynb",
   "parameters": {},
   "start_time": "2023-06-08T14:37:22.428902",
   "version": "2.4.0"
  }
 },
 "nbformat": 4,
 "nbformat_minor": 5
}
